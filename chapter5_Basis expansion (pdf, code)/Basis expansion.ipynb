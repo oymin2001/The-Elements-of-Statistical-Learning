{
 "cells": [
  {
   "cell_type": "code",
   "execution_count": null,
   "metadata": {
    "id": "tpsotDOPrqPs"
   },
   "outputs": [],
   "source": [
    "import numpy as np\n",
    "import pandas as pd\n",
    "import matplotlib.pyplot as plt\n",
    "import statsmodels.api as sm\n",
    "from scipy import stats, optimize\n",
    "from sklearn.base import BaseEstimator, TransformerMixin\n",
    "from sklearn.preprocessing import StandardScaler, FunctionTransformer\n",
    "from sklearn.linear_model import LogisticRegression\n",
    "from sklearn.pipeline import Pipeline\n",
    "import warnings\n",
    "\n",
    "%matplotlib inline\n",
    "warnings.filterwarnings('ignore')"
   ]
  },
  {
   "cell_type": "markdown",
   "metadata": {
    "id": "nvTH7KIDEGLa"
   },
   "source": [
    "[Reference. empathy87/The-Elements-of-Statistical-Learning-Python-Notebooks/examples/South African Heart Disease.ipynb\n",
    "](https://github.com/empathy87/The-Elements-of-Statistical-Learning-Python-Notebooks/blob/master/examples/South%20African%20Heart%20Disease.ipynb)"
   ]
  },
  {
   "cell_type": "markdown",
   "metadata": {
    "id": "zBUVtW7Wsoqs"
   },
   "source": [
    "# 1. Data Preprocessing"
   ]
  },
  {
   "cell_type": "code",
   "execution_count": null,
   "metadata": {
    "colab": {
     "base_uri": "https://localhost:8080/",
     "height": 206
    },
    "executionInfo": {
     "elapsed": 9,
     "status": "ok",
     "timestamp": 1711178996003,
     "user": {
      "displayName": "오영민/학생/통계학",
      "userId": "01302137743979307638"
     },
     "user_tz": -540
    },
    "id": "r6OH7guktA_A",
    "outputId": "ca8c5b01-14ce-4f1d-ce17-157f600c9350"
   },
   "outputs": [
    {
     "data": {
      "application/vnd.google.colaboratory.intrinsic+json": {
       "summary": "{\n  \"name\": \"df\",\n  \"rows\": 462,\n  \"fields\": [\n    {\n      \"column\": \"row.names\",\n      \"properties\": {\n        \"dtype\": \"number\",\n        \"std\": 133,\n        \"min\": 1,\n        \"max\": 463,\n        \"num_unique_values\": 462,\n        \"samples\": [\n          226,\n          31,\n          40\n        ],\n        \"semantic_type\": \"\",\n        \"description\": \"\"\n      }\n    },\n    {\n      \"column\": \"sbp\",\n      \"properties\": {\n        \"dtype\": \"number\",\n        \"std\": 20,\n        \"min\": 101,\n        \"max\": 218,\n        \"num_unique_values\": 62,\n        \"samples\": [\n          176,\n          178,\n          160\n        ],\n        \"semantic_type\": \"\",\n        \"description\": \"\"\n      }\n    },\n    {\n      \"column\": \"tobacco\",\n      \"properties\": {\n        \"dtype\": \"number\",\n        \"std\": 4.593024078404592,\n        \"min\": 0.0,\n        \"max\": 31.2,\n        \"num_unique_values\": 214,\n        \"samples\": [\n          6.0,\n          2.38,\n          3.7\n        ],\n        \"semantic_type\": \"\",\n        \"description\": \"\"\n      }\n    },\n    {\n      \"column\": \"ldl\",\n      \"properties\": {\n        \"dtype\": \"number\",\n        \"std\": 2.0709091610593253,\n        \"min\": 0.98,\n        \"max\": 15.33,\n        \"num_unique_values\": 329,\n        \"samples\": [\n          5.8,\n          6.58,\n          5.13\n        ],\n        \"semantic_type\": \"\",\n        \"description\": \"\"\n      }\n    },\n    {\n      \"column\": \"adiposity\",\n      \"properties\": {\n        \"dtype\": \"number\",\n        \"std\": 7.7806985958397625,\n        \"min\": 6.74,\n        \"max\": 42.49,\n        \"num_unique_values\": 408,\n        \"samples\": [\n          26.35,\n          27.68,\n          33.23\n        ],\n        \"semantic_type\": \"\",\n        \"description\": \"\"\n      }\n    },\n    {\n      \"column\": \"famhist\",\n      \"properties\": {\n        \"dtype\": \"category\",\n        \"num_unique_values\": 2,\n        \"samples\": [\n          \"Absent\",\n          \"Present\"\n        ],\n        \"semantic_type\": \"\",\n        \"description\": \"\"\n      }\n    },\n    {\n      \"column\": \"typea\",\n      \"properties\": {\n        \"dtype\": \"number\",\n        \"std\": 9,\n        \"min\": 13,\n        \"max\": 78,\n        \"num_unique_values\": 54,\n        \"samples\": [\n          57,\n          20\n        ],\n        \"semantic_type\": \"\",\n        \"description\": \"\"\n      }\n    },\n    {\n      \"column\": \"obesity\",\n      \"properties\": {\n        \"dtype\": \"number\",\n        \"std\": 4.2136802268977664,\n        \"min\": 14.7,\n        \"max\": 46.58,\n        \"num_unique_values\": 400,\n        \"samples\": [\n          19.48,\n          24.32\n        ],\n        \"semantic_type\": \"\",\n        \"description\": \"\"\n      }\n    },\n    {\n      \"column\": \"alcohol\",\n      \"properties\": {\n        \"dtype\": \"number\",\n        \"std\": 24.481058691658575,\n        \"min\": 0.0,\n        \"max\": 147.19,\n        \"num_unique_values\": 249,\n        \"samples\": [\n          7.85,\n          2.62\n        ],\n        \"semantic_type\": \"\",\n        \"description\": \"\"\n      }\n    },\n    {\n      \"column\": \"age\",\n      \"properties\": {\n        \"dtype\": \"number\",\n        \"std\": 14,\n        \"min\": 15,\n        \"max\": 64,\n        \"num_unique_values\": 49,\n        \"samples\": [\n          62,\n          47\n        ],\n        \"semantic_type\": \"\",\n        \"description\": \"\"\n      }\n    },\n    {\n      \"column\": \"chd\",\n      \"properties\": {\n        \"dtype\": \"number\",\n        \"std\": 0,\n        \"min\": 0,\n        \"max\": 1,\n        \"num_unique_values\": 2,\n        \"samples\": [\n          0,\n          1\n        ],\n        \"semantic_type\": \"\",\n        \"description\": \"\"\n      }\n    }\n  ]\n}",
       "type": "dataframe",
       "variable_name": "df"
      },
      "text/html": [
       "\n",
       "  <div id=\"df-5231d10d-18b9-400b-8abf-3f8e62db600d\" class=\"colab-df-container\">\n",
       "    <div>\n",
       "<style scoped>\n",
       "    .dataframe tbody tr th:only-of-type {\n",
       "        vertical-align: middle;\n",
       "    }\n",
       "\n",
       "    .dataframe tbody tr th {\n",
       "        vertical-align: top;\n",
       "    }\n",
       "\n",
       "    .dataframe thead th {\n",
       "        text-align: right;\n",
       "    }\n",
       "</style>\n",
       "<table border=\"1\" class=\"dataframe\">\n",
       "  <thead>\n",
       "    <tr style=\"text-align: right;\">\n",
       "      <th></th>\n",
       "      <th>row.names</th>\n",
       "      <th>sbp</th>\n",
       "      <th>tobacco</th>\n",
       "      <th>ldl</th>\n",
       "      <th>adiposity</th>\n",
       "      <th>famhist</th>\n",
       "      <th>typea</th>\n",
       "      <th>obesity</th>\n",
       "      <th>alcohol</th>\n",
       "      <th>age</th>\n",
       "      <th>chd</th>\n",
       "    </tr>\n",
       "  </thead>\n",
       "  <tbody>\n",
       "    <tr>\n",
       "      <th>0</th>\n",
       "      <td>1</td>\n",
       "      <td>160</td>\n",
       "      <td>12.00</td>\n",
       "      <td>5.73</td>\n",
       "      <td>23.11</td>\n",
       "      <td>Present</td>\n",
       "      <td>49</td>\n",
       "      <td>25.30</td>\n",
       "      <td>97.20</td>\n",
       "      <td>52</td>\n",
       "      <td>1</td>\n",
       "    </tr>\n",
       "    <tr>\n",
       "      <th>1</th>\n",
       "      <td>2</td>\n",
       "      <td>144</td>\n",
       "      <td>0.01</td>\n",
       "      <td>4.41</td>\n",
       "      <td>28.61</td>\n",
       "      <td>Absent</td>\n",
       "      <td>55</td>\n",
       "      <td>28.87</td>\n",
       "      <td>2.06</td>\n",
       "      <td>63</td>\n",
       "      <td>1</td>\n",
       "    </tr>\n",
       "    <tr>\n",
       "      <th>2</th>\n",
       "      <td>3</td>\n",
       "      <td>118</td>\n",
       "      <td>0.08</td>\n",
       "      <td>3.48</td>\n",
       "      <td>32.28</td>\n",
       "      <td>Present</td>\n",
       "      <td>52</td>\n",
       "      <td>29.14</td>\n",
       "      <td>3.81</td>\n",
       "      <td>46</td>\n",
       "      <td>0</td>\n",
       "    </tr>\n",
       "    <tr>\n",
       "      <th>3</th>\n",
       "      <td>4</td>\n",
       "      <td>170</td>\n",
       "      <td>7.50</td>\n",
       "      <td>6.41</td>\n",
       "      <td>38.03</td>\n",
       "      <td>Present</td>\n",
       "      <td>51</td>\n",
       "      <td>31.99</td>\n",
       "      <td>24.26</td>\n",
       "      <td>58</td>\n",
       "      <td>1</td>\n",
       "    </tr>\n",
       "    <tr>\n",
       "      <th>4</th>\n",
       "      <td>5</td>\n",
       "      <td>134</td>\n",
       "      <td>13.60</td>\n",
       "      <td>3.50</td>\n",
       "      <td>27.78</td>\n",
       "      <td>Present</td>\n",
       "      <td>60</td>\n",
       "      <td>25.99</td>\n",
       "      <td>57.34</td>\n",
       "      <td>49</td>\n",
       "      <td>1</td>\n",
       "    </tr>\n",
       "  </tbody>\n",
       "</table>\n",
       "</div>\n",
       "    <div class=\"colab-df-buttons\">\n",
       "\n",
       "  <div class=\"colab-df-container\">\n",
       "    <button class=\"colab-df-convert\" onclick=\"convertToInteractive('df-5231d10d-18b9-400b-8abf-3f8e62db600d')\"\n",
       "            title=\"Convert this dataframe to an interactive table.\"\n",
       "            style=\"display:none;\">\n",
       "\n",
       "  <svg xmlns=\"http://www.w3.org/2000/svg\" height=\"24px\" viewBox=\"0 -960 960 960\">\n",
       "    <path d=\"M120-120v-720h720v720H120Zm60-500h600v-160H180v160Zm220 220h160v-160H400v160Zm0 220h160v-160H400v160ZM180-400h160v-160H180v160Zm440 0h160v-160H620v160ZM180-180h160v-160H180v160Zm440 0h160v-160H620v160Z\"/>\n",
       "  </svg>\n",
       "    </button>\n",
       "\n",
       "  <style>\n",
       "    .colab-df-container {\n",
       "      display:flex;\n",
       "      gap: 12px;\n",
       "    }\n",
       "\n",
       "    .colab-df-convert {\n",
       "      background-color: #E8F0FE;\n",
       "      border: none;\n",
       "      border-radius: 50%;\n",
       "      cursor: pointer;\n",
       "      display: none;\n",
       "      fill: #1967D2;\n",
       "      height: 32px;\n",
       "      padding: 0 0 0 0;\n",
       "      width: 32px;\n",
       "    }\n",
       "\n",
       "    .colab-df-convert:hover {\n",
       "      background-color: #E2EBFA;\n",
       "      box-shadow: 0px 1px 2px rgba(60, 64, 67, 0.3), 0px 1px 3px 1px rgba(60, 64, 67, 0.15);\n",
       "      fill: #174EA6;\n",
       "    }\n",
       "\n",
       "    .colab-df-buttons div {\n",
       "      margin-bottom: 4px;\n",
       "    }\n",
       "\n",
       "    [theme=dark] .colab-df-convert {\n",
       "      background-color: #3B4455;\n",
       "      fill: #D2E3FC;\n",
       "    }\n",
       "\n",
       "    [theme=dark] .colab-df-convert:hover {\n",
       "      background-color: #434B5C;\n",
       "      box-shadow: 0px 1px 3px 1px rgba(0, 0, 0, 0.15);\n",
       "      filter: drop-shadow(0px 1px 2px rgba(0, 0, 0, 0.3));\n",
       "      fill: #FFFFFF;\n",
       "    }\n",
       "  </style>\n",
       "\n",
       "    <script>\n",
       "      const buttonEl =\n",
       "        document.querySelector('#df-5231d10d-18b9-400b-8abf-3f8e62db600d button.colab-df-convert');\n",
       "      buttonEl.style.display =\n",
       "        google.colab.kernel.accessAllowed ? 'block' : 'none';\n",
       "\n",
       "      async function convertToInteractive(key) {\n",
       "        const element = document.querySelector('#df-5231d10d-18b9-400b-8abf-3f8e62db600d');\n",
       "        const dataTable =\n",
       "          await google.colab.kernel.invokeFunction('convertToInteractive',\n",
       "                                                    [key], {});\n",
       "        if (!dataTable) return;\n",
       "\n",
       "        const docLinkHtml = 'Like what you see? Visit the ' +\n",
       "          '<a target=\"_blank\" href=https://colab.research.google.com/notebooks/data_table.ipynb>data table notebook</a>'\n",
       "          + ' to learn more about interactive tables.';\n",
       "        element.innerHTML = '';\n",
       "        dataTable['output_type'] = 'display_data';\n",
       "        await google.colab.output.renderOutput(dataTable, element);\n",
       "        const docLink = document.createElement('div');\n",
       "        docLink.innerHTML = docLinkHtml;\n",
       "        element.appendChild(docLink);\n",
       "      }\n",
       "    </script>\n",
       "  </div>\n",
       "\n",
       "\n",
       "<div id=\"df-caaecc41-eb84-4ac9-a727-6e51f862710a\">\n",
       "  <button class=\"colab-df-quickchart\" onclick=\"quickchart('df-caaecc41-eb84-4ac9-a727-6e51f862710a')\"\n",
       "            title=\"Suggest charts\"\n",
       "            style=\"display:none;\">\n",
       "\n",
       "<svg xmlns=\"http://www.w3.org/2000/svg\" height=\"24px\"viewBox=\"0 0 24 24\"\n",
       "     width=\"24px\">\n",
       "    <g>\n",
       "        <path d=\"M19 3H5c-1.1 0-2 .9-2 2v14c0 1.1.9 2 2 2h14c1.1 0 2-.9 2-2V5c0-1.1-.9-2-2-2zM9 17H7v-7h2v7zm4 0h-2V7h2v10zm4 0h-2v-4h2v4z\"/>\n",
       "    </g>\n",
       "</svg>\n",
       "  </button>\n",
       "\n",
       "<style>\n",
       "  .colab-df-quickchart {\n",
       "      --bg-color: #E8F0FE;\n",
       "      --fill-color: #1967D2;\n",
       "      --hover-bg-color: #E2EBFA;\n",
       "      --hover-fill-color: #174EA6;\n",
       "      --disabled-fill-color: #AAA;\n",
       "      --disabled-bg-color: #DDD;\n",
       "  }\n",
       "\n",
       "  [theme=dark] .colab-df-quickchart {\n",
       "      --bg-color: #3B4455;\n",
       "      --fill-color: #D2E3FC;\n",
       "      --hover-bg-color: #434B5C;\n",
       "      --hover-fill-color: #FFFFFF;\n",
       "      --disabled-bg-color: #3B4455;\n",
       "      --disabled-fill-color: #666;\n",
       "  }\n",
       "\n",
       "  .colab-df-quickchart {\n",
       "    background-color: var(--bg-color);\n",
       "    border: none;\n",
       "    border-radius: 50%;\n",
       "    cursor: pointer;\n",
       "    display: none;\n",
       "    fill: var(--fill-color);\n",
       "    height: 32px;\n",
       "    padding: 0;\n",
       "    width: 32px;\n",
       "  }\n",
       "\n",
       "  .colab-df-quickchart:hover {\n",
       "    background-color: var(--hover-bg-color);\n",
       "    box-shadow: 0 1px 2px rgba(60, 64, 67, 0.3), 0 1px 3px 1px rgba(60, 64, 67, 0.15);\n",
       "    fill: var(--button-hover-fill-color);\n",
       "  }\n",
       "\n",
       "  .colab-df-quickchart-complete:disabled,\n",
       "  .colab-df-quickchart-complete:disabled:hover {\n",
       "    background-color: var(--disabled-bg-color);\n",
       "    fill: var(--disabled-fill-color);\n",
       "    box-shadow: none;\n",
       "  }\n",
       "\n",
       "  .colab-df-spinner {\n",
       "    border: 2px solid var(--fill-color);\n",
       "    border-color: transparent;\n",
       "    border-bottom-color: var(--fill-color);\n",
       "    animation:\n",
       "      spin 1s steps(1) infinite;\n",
       "  }\n",
       "\n",
       "  @keyframes spin {\n",
       "    0% {\n",
       "      border-color: transparent;\n",
       "      border-bottom-color: var(--fill-color);\n",
       "      border-left-color: var(--fill-color);\n",
       "    }\n",
       "    20% {\n",
       "      border-color: transparent;\n",
       "      border-left-color: var(--fill-color);\n",
       "      border-top-color: var(--fill-color);\n",
       "    }\n",
       "    30% {\n",
       "      border-color: transparent;\n",
       "      border-left-color: var(--fill-color);\n",
       "      border-top-color: var(--fill-color);\n",
       "      border-right-color: var(--fill-color);\n",
       "    }\n",
       "    40% {\n",
       "      border-color: transparent;\n",
       "      border-right-color: var(--fill-color);\n",
       "      border-top-color: var(--fill-color);\n",
       "    }\n",
       "    60% {\n",
       "      border-color: transparent;\n",
       "      border-right-color: var(--fill-color);\n",
       "    }\n",
       "    80% {\n",
       "      border-color: transparent;\n",
       "      border-right-color: var(--fill-color);\n",
       "      border-bottom-color: var(--fill-color);\n",
       "    }\n",
       "    90% {\n",
       "      border-color: transparent;\n",
       "      border-bottom-color: var(--fill-color);\n",
       "    }\n",
       "  }\n",
       "</style>\n",
       "\n",
       "  <script>\n",
       "    async function quickchart(key) {\n",
       "      const quickchartButtonEl =\n",
       "        document.querySelector('#' + key + ' button');\n",
       "      quickchartButtonEl.disabled = true;  // To prevent multiple clicks.\n",
       "      quickchartButtonEl.classList.add('colab-df-spinner');\n",
       "      try {\n",
       "        const charts = await google.colab.kernel.invokeFunction(\n",
       "            'suggestCharts', [key], {});\n",
       "      } catch (error) {\n",
       "        console.error('Error during call to suggestCharts:', error);\n",
       "      }\n",
       "      quickchartButtonEl.classList.remove('colab-df-spinner');\n",
       "      quickchartButtonEl.classList.add('colab-df-quickchart-complete');\n",
       "    }\n",
       "    (() => {\n",
       "      let quickchartButtonEl =\n",
       "        document.querySelector('#df-caaecc41-eb84-4ac9-a727-6e51f862710a button');\n",
       "      quickchartButtonEl.style.display =\n",
       "        google.colab.kernel.accessAllowed ? 'block' : 'none';\n",
       "    })();\n",
       "  </script>\n",
       "</div>\n",
       "    </div>\n",
       "  </div>\n"
      ],
      "text/plain": [
       "   row.names  sbp  tobacco   ldl  adiposity  famhist  typea  obesity  alcohol  \\\n",
       "0          1  160    12.00  5.73      23.11  Present     49    25.30    97.20   \n",
       "1          2  144     0.01  4.41      28.61   Absent     55    28.87     2.06   \n",
       "2          3  118     0.08  3.48      32.28  Present     52    29.14     3.81   \n",
       "3          4  170     7.50  6.41      38.03  Present     51    31.99    24.26   \n",
       "4          5  134    13.60  3.50      27.78  Present     60    25.99    57.34   \n",
       "\n",
       "   age  chd  \n",
       "0   52    1  \n",
       "1   63    1  \n",
       "2   46    0  \n",
       "3   58    1  \n",
       "4   49    1  "
      ]
     },
     "execution_count": 2,
     "metadata": {},
     "output_type": "execute_result"
    }
   ],
   "source": [
    "file_dir_sad = \"\"\n",
    "df = pd.read_csv(file_dir_sad)\n",
    "df.head()"
   ]
  },
  {
   "cell_type": "code",
   "execution_count": null,
   "metadata": {
    "id": "n6VAGotPtBBH"
   },
   "outputs": [],
   "source": [
    "df['famhist'] = pd.get_dummies(df['famhist'])['Present']\n",
    "features = ['sbp', 'tobacco', 'ldl', 'famhist', 'obesity', 'alcohol', 'age']\n",
    "target = 'chd'\n",
    "X, y = df[features].values, df[target].values"
   ]
  },
  {
   "cell_type": "markdown",
   "metadata": {
    "id": "DROwQswzt9Ij"
   },
   "source": [
    "# 2. Natural Cubic Splines"
   ]
  },
  {
   "cell_type": "markdown",
   "metadata": {
    "id": "SmjachTIwmeU"
   },
   "source": [
    "First, calculate knots by uniform quantiles.\n",
    "\n",
    "Lets make 5 knots(df=4)"
   ]
  },
  {
   "cell_type": "code",
   "execution_count": null,
   "metadata": {
    "colab": {
     "base_uri": "https://localhost:8080/"
    },
    "executionInfo": {
     "elapsed": 1014,
     "status": "ok",
     "timestamp": 1711178997012,
     "user": {
      "displayName": "오영민/학생/통계학",
      "userId": "01302137743979307638"
     },
     "user_tz": -540
    },
    "id": "aYZSQ3Easa94",
    "outputId": "fe844cb7-416c-409c-f7dc-af492d209260"
   },
   "outputs": [
    {
     "data": {
      "text/plain": [
       "[array([101., 124., 134., 148., 218.]),\n",
       " array([ 0.    ,  0.0525,  2.    ,  5.5   , 31.2   ]),\n",
       " array([ 0.98  ,  3.2825,  4.34  ,  5.79  , 15.33  ]),\n",
       " array([0., 1.]),\n",
       " array([14.7   , 22.985 , 25.805 , 28.4975, 46.58  ]),\n",
       " array([  0.    ,   0.51  ,   7.51  ,  23.8925, 147.19  ]),\n",
       " array([15., 31., 45., 55., 64.])]"
      ]
     },
     "execution_count": 4,
     "metadata": {},
     "output_type": "execute_result"
    }
   ],
   "source": [
    "q = np.linspace(0,1,5)\n",
    "knots = []\n",
    "for i in range(X.shape[1]):\n",
    "    knots.append(np.unique(np.quantile(X[:,i], q)))\n",
    "\n",
    "knots # Since 4th column('famhist') is 2-class dummy variable, # of knots be 2"
   ]
  },
  {
   "cell_type": "code",
   "execution_count": null,
   "metadata": {
    "colab": {
     "base_uri": "https://localhost:8080/"
    },
    "executionInfo": {
     "elapsed": 25,
     "status": "ok",
     "timestamp": 1711178997012,
     "user": {
      "displayName": "오영민/학생/통계학",
      "userId": "01302137743979307638"
     },
     "user_tz": -540
    },
    "id": "1PgejDl8xEB-",
    "outputId": "376a0f9a-ad9a-4d4f-fa6e-f6aa950e05f3"
   },
   "outputs": [
    {
     "data": {
      "text/plain": [
       "array([4, 4, 4, 1, 4, 4, 4])"
      ]
     },
     "execution_count": 5,
     "metadata": {},
     "output_type": "execute_result"
    }
   ],
   "source": [
    "# the number of params in each component (i.e. degrees of freedom)\n",
    "dfs = np.array([len(k)-1 for k in knots])\n",
    "dfs"
   ]
  },
  {
   "cell_type": "code",
   "execution_count": null,
   "metadata": {
    "colab": {
     "base_uri": "https://localhost:8080/"
    },
    "executionInfo": {
     "elapsed": 23,
     "status": "ok",
     "timestamp": 1711178997012,
     "user": {
      "displayName": "오영민/학생/통계학",
      "userId": "01302137743979307638"
     },
     "user_tz": -540
    },
    "id": "gr5MKhpQxWWi",
    "outputId": "41d596ad-ff4c-4f55-ad79-5c4248beccc5"
   },
   "outputs": [
    {
     "data": {
      "text/plain": [
       "[(0, 3), (4, 7), (8, 11), (12, 12), (13, 16), (17, 20), (21, 24)]"
      ]
     },
     "execution_count": 6,
     "metadata": {},
     "output_type": "execute_result"
    }
   ],
   "source": [
    "# calculate the first & last index of basis for each feature\n",
    "dfs_cumsum = [0] + list(np.cumsum(dfs))\n",
    "positions = [(dfs_cumsum[i-1], dfs_cumsum[i]-1) for i in range(1, len(dfs_cumsum))]\n",
    "positions"
   ]
  },
  {
   "cell_type": "markdown",
   "metadata": {
    "id": "S1pL-XZb4jV5"
   },
   "source": [
    "Now calculate Natural Cubic Splines basis\n",
    "\n",
    "**Note**. For multi-dimensional case, intercept is 1 for all features i.e. there exists 6*4 + 1(dummy variable) + 1(intercept) = 26 parameters\n",
    "\n",
    "$$ N_1(X) = 1, N_2(X) = X, N_{k+2}(X) = d_k(X) - d_{K-1}(X)$$ where\n",
    "\n",
    "$$d_k(X) = \\frac{(X-\\xi_k)^3_+}{\\xi_K - \\xi_k} - \\frac{(X - \\xi_K)^3_+}{\\xi_K - \\xi_k} $$"
   ]
  },
  {
   "cell_type": "markdown",
   "metadata": {
    "id": "4UjBW7t_56bH"
   },
   "source": [
    "To make more generl formula, define dk by:\n",
    "\n",
    "$$dk(X,k) = \\frac{(X-\\xi_k)^3_+}{\\xi_K - \\xi_k} $$\n",
    "\n",
    "\n",
    "Thus, $$d_k(X) = dk(X,k) - dk(X,K), N_{k+2}(X) = dk(X,k) - dk(X,K-1) $$"
   ]
  },
  {
   "cell_type": "code",
   "execution_count": null,
   "metadata": {
    "id": "l9_theH70zGN"
   },
   "outputs": [],
   "source": [
    "def dk(X,k,k_last):\n",
    "    return (X-k).clip(0) **3 / (k_last - k)\n",
    "\n",
    "def expand_natural_cubic(X,ks):\n",
    "    basis_splines = [X]\n",
    "    dki_last = dk(X,ks[-2],ks[-1])\n",
    "    for knot in ks[:-2]:\n",
    "        dki = dk(X,knot,ks[-1])\n",
    "        basis_splines.append(dki - dki_last)\n",
    "\n",
    "    return np.hstack(basis_splines)"
   ]
  },
  {
   "cell_type": "code",
   "execution_count": null,
   "metadata": {
    "colab": {
     "base_uri": "https://localhost:8080/"
    },
    "executionInfo": {
     "elapsed": 21,
     "status": "ok",
     "timestamp": 1711178997012,
     "user": {
      "displayName": "오영민/학생/통계학",
      "userId": "01302137743979307638"
     },
     "user_tz": -540
    },
    "id": "EyCPRJkr84Hu",
    "outputId": "c3066a76-dd2c-4385-d920-4daff07d85b2"
   },
   "outputs": [
    {
     "name": "stdout",
     "output_type": "stream",
     "text": [
      "0\n",
      "[[ 160.         1730.69035409  471.65471125  184.55238095]\n",
      " [ 144.          679.54700855   85.10638298   11.9047619 ]\n",
      " [ 118.           41.99145299    0.            0.        ]]\n",
      "1\n",
      "[[1.20000000e+01 4.46988177e+01 4.40672027e+01 2.35607777e+01]\n",
      " [1.00000000e-02 3.20512821e-08 0.00000000e+00 0.00000000e+00]\n",
      " [8.00000000e-02 1.64102564e-05 6.67690023e-07 0.00000000e+00]]\n",
      "2\n",
      "[[5.73000000e+00 7.46842334e+00 1.21694560e+00 2.44369336e-01]\n",
      " [4.41000000e+00 2.81209805e+00 1.18974179e-01 3.12101911e-05]\n",
      " [3.48000000e+00 1.08885017e+00 6.39446721e-04 0.00000000e+00]]\n",
      "3\n",
      "[[1.]\n",
      " [0.]\n",
      " [1.]]\n",
      "4\n",
      "[[25.3        37.35934755  0.52581504  0.        ]\n",
      " [28.87       89.24365081  8.63526534  1.38310068]\n",
      " [29.14       94.43126659  9.86777242  1.77077736]]\n",
      "5\n",
      "[[9.72000000e+01 3.04393124e+03 2.96759123e+03 1.97017947e+03]\n",
      " [2.06000000e+00 5.93913717e-02 2.53877488e-02 0.00000000e+00]\n",
      " [3.81000000e+00 3.75747952e-01 2.45002727e-01 0.00000000e+00]]\n",
      "6\n",
      "[[5.20000000e+01 1.03373469e+03 2.80636364e+02 1.80526316e+01]\n",
      " [6.30000000e+01 2.20009070e+03 9.36080808e+02 2.50058480e+02]\n",
      " [4.60000000e+01 6.07979592e+02 1.02272727e+02 5.26315789e-02]]\n"
     ]
    }
   ],
   "source": [
    "# For each features:\n",
    "for i in range(X.shape[1]):\n",
    "    print(i)\n",
    "    print(expand_natural_cubic(X[:,i:i+1],knots[i])[:3,:]) # 6*4 + 1 = 25 parmas"
   ]
  },
  {
   "cell_type": "code",
   "execution_count": null,
   "metadata": {
    "id": "9r1bDVQGsCpW"
   },
   "outputs": [],
   "source": [
    "class NaturalCubicSplineFeatures(BaseEstimator, TransformerMixin):\n",
    "    def __init__(self, knots=None, df=None):\n",
    "        self.knots = knots\n",
    "        self.df = df # (df+1)-knots calculated at uniform quantiles\n",
    "\n",
    "    def fit(self,X,y=None):\n",
    "        if self.df is not None:\n",
    "            quantiles = np.linspace(0,1,self.df + 1)\n",
    "            self.knots = []\n",
    "            for i in range(X.shape[1]):\n",
    "                self.knots.append(np.unique(np.quantile(X[:,i], quantiles)))\n",
    "\n",
    "\n",
    "        self.dfs_ = np.array([len(k)-1 for k in self.knots])\n",
    "        dfs_cumsum = [0] + list(np.cumsum(self.dfs_))\n",
    "        self.positions_ =  [(dfs_cumsum[i-1], dfs_cumsum[i]-1) for i in range(1, len(dfs_cumsum))]\n",
    "        return self\n",
    "\n",
    "    def transform(self,X):\n",
    "        features_basis_splines = []\n",
    "        for i in range(X.shape[1]):\n",
    "            features_basis_splines.append(\n",
    "                self.__expand_natural_cubic(X[:, i:i+1], self.knots[i]))\n",
    "\n",
    "        return np.hstack(features_basis_splines)\n",
    "\n",
    "\n",
    "    @staticmethod\n",
    "    def __dk(X,k,k_last):\n",
    "        return (X-k).clip(0) **3 / (k_last - k)\n",
    "\n",
    "    @staticmethod\n",
    "    def __expand_natural_cubic(X,ks):\n",
    "        basis_splines = [X]\n",
    "        dki_last = NaturalCubicSplineFeatures.__dk(X,ks[-2],ks[-1])\n",
    "        for knot in ks[:-2]:\n",
    "            dki = NaturalCubicSplineFeatures.__dk(X,knot,ks[-1])\n",
    "            basis_splines.append(dki - dki_last)\n",
    "\n",
    "        return np.hstack(basis_splines)"
   ]
  },
  {
   "cell_type": "code",
   "execution_count": null,
   "metadata": {
    "colab": {
     "base_uri": "https://localhost:8080/"
    },
    "executionInfo": {
     "elapsed": 20,
     "status": "ok",
     "timestamp": 1711178997012,
     "user": {
      "displayName": "오영민/학생/통계학",
      "userId": "01302137743979307638"
     },
     "user_tz": -540
    },
    "id": "9cs7DOdJvcA3",
    "outputId": "80a2a250-de44-4908-c5e5-eb8780c3c46f"
   },
   "outputs": [
    {
     "name": "stdout",
     "output_type": "stream",
     "text": [
      "Dimension of expanded X:  (462, 26)\n",
      "Rank of expanded X:  26\n"
     ]
    }
   ],
   "source": [
    "ncs_features = NaturalCubicSplineFeatures(df=4)\n",
    "add_intercept = FunctionTransformer(\n",
    "    lambda X: sm.add_constant(X), validate=True)\n",
    "\n",
    "\n",
    "data_pipeline = Pipeline([('scale_features', StandardScaler()),\n",
    "                          (\"expand_basis\",ncs_features),\n",
    "                          ('scale_basis',StandardScaler()),\n",
    "                          ('add_intercept_column', add_intercept)])\n",
    "\n",
    "X_exp = data_pipeline.fit_transform(X)\n",
    "\n",
    "from numpy.linalg import matrix_rank\n",
    "\n",
    "print(\"Dimension of expanded X: \",X_exp.shape)\n",
    "print(\"Rank of expanded X: \",matrix_rank(X_exp))"
   ]
  },
  {
   "cell_type": "code",
   "execution_count": null,
   "metadata": {
    "id": "gixwbOUsVbzR"
   },
   "outputs": [],
   "source": [
    "lr_naive = LogisticRegression(\n",
    "    solver='lbfgs', max_iter=100000, C=10e10, fit_intercept=False, random_state=42)\n",
    "\n",
    "lr = lr_naive = LogisticRegression(\n",
    "    solver='lbfgs', max_iter=100000, C=10e10, fit_intercept=False, random_state=42)\n",
    "\n",
    "expanded_lr = Pipeline([('prepare', data_pipeline),\n",
    "                        ('logistic', lr)])"
   ]
  },
  {
   "cell_type": "code",
   "execution_count": null,
   "metadata": {
    "colab": {
     "base_uri": "https://localhost:8080/",
     "height": 92
    },
    "executionInfo": {
     "elapsed": 18,
     "status": "ok",
     "timestamp": 1711178997012,
     "user": {
      "displayName": "오영민/학생/통계학",
      "userId": "01302137743979307638"
     },
     "user_tz": -540
    },
    "id": "9ElWXXRQVoLX",
    "outputId": "2d42833e-f0a5-4989-971f-b4e947a4699c"
   },
   "outputs": [
    {
     "data": {
      "text/html": [
       "<style>#sk-container-id-1 {color: black;background-color: white;}#sk-container-id-1 pre{padding: 0;}#sk-container-id-1 div.sk-toggleable {background-color: white;}#sk-container-id-1 label.sk-toggleable__label {cursor: pointer;display: block;width: 100%;margin-bottom: 0;padding: 0.3em;box-sizing: border-box;text-align: center;}#sk-container-id-1 label.sk-toggleable__label-arrow:before {content: \"▸\";float: left;margin-right: 0.25em;color: #696969;}#sk-container-id-1 label.sk-toggleable__label-arrow:hover:before {color: black;}#sk-container-id-1 div.sk-estimator:hover label.sk-toggleable__label-arrow:before {color: black;}#sk-container-id-1 div.sk-toggleable__content {max-height: 0;max-width: 0;overflow: hidden;text-align: left;background-color: #f0f8ff;}#sk-container-id-1 div.sk-toggleable__content pre {margin: 0.2em;color: black;border-radius: 0.25em;background-color: #f0f8ff;}#sk-container-id-1 input.sk-toggleable__control:checked~div.sk-toggleable__content {max-height: 200px;max-width: 100%;overflow: auto;}#sk-container-id-1 input.sk-toggleable__control:checked~label.sk-toggleable__label-arrow:before {content: \"▾\";}#sk-container-id-1 div.sk-estimator input.sk-toggleable__control:checked~label.sk-toggleable__label {background-color: #d4ebff;}#sk-container-id-1 div.sk-label input.sk-toggleable__control:checked~label.sk-toggleable__label {background-color: #d4ebff;}#sk-container-id-1 input.sk-hidden--visually {border: 0;clip: rect(1px 1px 1px 1px);clip: rect(1px, 1px, 1px, 1px);height: 1px;margin: -1px;overflow: hidden;padding: 0;position: absolute;width: 1px;}#sk-container-id-1 div.sk-estimator {font-family: monospace;background-color: #f0f8ff;border: 1px dotted black;border-radius: 0.25em;box-sizing: border-box;margin-bottom: 0.5em;}#sk-container-id-1 div.sk-estimator:hover {background-color: #d4ebff;}#sk-container-id-1 div.sk-parallel-item::after {content: \"\";width: 100%;border-bottom: 1px solid gray;flex-grow: 1;}#sk-container-id-1 div.sk-label:hover label.sk-toggleable__label {background-color: #d4ebff;}#sk-container-id-1 div.sk-serial::before {content: \"\";position: absolute;border-left: 1px solid gray;box-sizing: border-box;top: 0;bottom: 0;left: 50%;z-index: 0;}#sk-container-id-1 div.sk-serial {display: flex;flex-direction: column;align-items: center;background-color: white;padding-right: 0.2em;padding-left: 0.2em;position: relative;}#sk-container-id-1 div.sk-item {position: relative;z-index: 1;}#sk-container-id-1 div.sk-parallel {display: flex;align-items: stretch;justify-content: center;background-color: white;position: relative;}#sk-container-id-1 div.sk-item::before, #sk-container-id-1 div.sk-parallel-item::before {content: \"\";position: absolute;border-left: 1px solid gray;box-sizing: border-box;top: 0;bottom: 0;left: 50%;z-index: -1;}#sk-container-id-1 div.sk-parallel-item {display: flex;flex-direction: column;z-index: 1;position: relative;background-color: white;}#sk-container-id-1 div.sk-parallel-item:first-child::after {align-self: flex-end;width: 50%;}#sk-container-id-1 div.sk-parallel-item:last-child::after {align-self: flex-start;width: 50%;}#sk-container-id-1 div.sk-parallel-item:only-child::after {width: 0;}#sk-container-id-1 div.sk-dashed-wrapped {border: 1px dashed gray;margin: 0 0.4em 0.5em 0.4em;box-sizing: border-box;padding-bottom: 0.4em;background-color: white;}#sk-container-id-1 div.sk-label label {font-family: monospace;font-weight: bold;display: inline-block;line-height: 1.2em;}#sk-container-id-1 div.sk-label-container {text-align: center;}#sk-container-id-1 div.sk-container {/* jupyter's `normalize.less` sets `[hidden] { display: none; }` but bootstrap.min.css set `[hidden] { display: none !important; }` so we also need the `!important` here to be able to override the default hidden behavior on the sphinx rendered scikit-learn.org. See: https://github.com/scikit-learn/scikit-learn/issues/21755 */display: inline-block !important;position: relative;}#sk-container-id-1 div.sk-text-repr-fallback {display: none;}</style><div id=\"sk-container-id-1\" class=\"sk-top-container\"><div class=\"sk-text-repr-fallback\"><pre>LogisticRegression(C=100000000000.0, fit_intercept=False, max_iter=100000,\n",
       "                   random_state=42)</pre><b>In a Jupyter environment, please rerun this cell to show the HTML representation or trust the notebook. <br />On GitHub, the HTML representation is unable to render, please try loading this page with nbviewer.org.</b></div><div class=\"sk-container\" hidden><div class=\"sk-item\"><div class=\"sk-estimator sk-toggleable\"><input class=\"sk-toggleable__control sk-hidden--visually\" id=\"sk-estimator-id-1\" type=\"checkbox\" checked><label for=\"sk-estimator-id-1\" class=\"sk-toggleable__label sk-toggleable__label-arrow\">LogisticRegression</label><div class=\"sk-toggleable__content\"><pre>LogisticRegression(C=100000000000.0, fit_intercept=False, max_iter=100000,\n",
       "                   random_state=42)</pre></div></div></div></div></div>"
      ],
      "text/plain": [
       "LogisticRegression(C=100000000000.0, fit_intercept=False, max_iter=100000,\n",
       "                   random_state=42)"
      ]
     },
     "execution_count": 12,
     "metadata": {},
     "output_type": "execute_result"
    }
   ],
   "source": [
    "lr_naive.fit(X,y) # No scaling and basis expandsion"
   ]
  },
  {
   "cell_type": "code",
   "execution_count": null,
   "metadata": {
    "colab": {
     "base_uri": "https://localhost:8080/"
    },
    "executionInfo": {
     "elapsed": 19,
     "status": "ok",
     "timestamp": 1711178997013,
     "user": {
      "displayName": "오영민/학생/통계학",
      "userId": "01302137743979307638"
     },
     "user_tz": -540
    },
    "id": "isGD-tn2Vvok",
    "outputId": "bc433ce9-5fad-4cae-fde3-6dd60868634e"
   },
   "outputs": [
    {
     "data": {
      "text/plain": [
       "0.7164502164502164"
      ]
     },
     "execution_count": 13,
     "metadata": {},
     "output_type": "execute_result"
    }
   ],
   "source": [
    "lr_naive.score(X,y)"
   ]
  },
  {
   "cell_type": "code",
   "execution_count": null,
   "metadata": {
    "colab": {
     "base_uri": "https://localhost:8080/",
     "height": 256
    },
    "executionInfo": {
     "elapsed": 967,
     "status": "ok",
     "timestamp": 1711178997963,
     "user": {
      "displayName": "오영민/학생/통계학",
      "userId": "01302137743979307638"
     },
     "user_tz": -540
    },
    "id": "ttD7PKEiVt4A",
    "outputId": "a6dd9546-367c-45a8-959b-e201479a3d1f"
   },
   "outputs": [
    {
     "data": {
      "text/html": [
       "<style>#sk-container-id-2 {color: black;background-color: white;}#sk-container-id-2 pre{padding: 0;}#sk-container-id-2 div.sk-toggleable {background-color: white;}#sk-container-id-2 label.sk-toggleable__label {cursor: pointer;display: block;width: 100%;margin-bottom: 0;padding: 0.3em;box-sizing: border-box;text-align: center;}#sk-container-id-2 label.sk-toggleable__label-arrow:before {content: \"▸\";float: left;margin-right: 0.25em;color: #696969;}#sk-container-id-2 label.sk-toggleable__label-arrow:hover:before {color: black;}#sk-container-id-2 div.sk-estimator:hover label.sk-toggleable__label-arrow:before {color: black;}#sk-container-id-2 div.sk-toggleable__content {max-height: 0;max-width: 0;overflow: hidden;text-align: left;background-color: #f0f8ff;}#sk-container-id-2 div.sk-toggleable__content pre {margin: 0.2em;color: black;border-radius: 0.25em;background-color: #f0f8ff;}#sk-container-id-2 input.sk-toggleable__control:checked~div.sk-toggleable__content {max-height: 200px;max-width: 100%;overflow: auto;}#sk-container-id-2 input.sk-toggleable__control:checked~label.sk-toggleable__label-arrow:before {content: \"▾\";}#sk-container-id-2 div.sk-estimator input.sk-toggleable__control:checked~label.sk-toggleable__label {background-color: #d4ebff;}#sk-container-id-2 div.sk-label input.sk-toggleable__control:checked~label.sk-toggleable__label {background-color: #d4ebff;}#sk-container-id-2 input.sk-hidden--visually {border: 0;clip: rect(1px 1px 1px 1px);clip: rect(1px, 1px, 1px, 1px);height: 1px;margin: -1px;overflow: hidden;padding: 0;position: absolute;width: 1px;}#sk-container-id-2 div.sk-estimator {font-family: monospace;background-color: #f0f8ff;border: 1px dotted black;border-radius: 0.25em;box-sizing: border-box;margin-bottom: 0.5em;}#sk-container-id-2 div.sk-estimator:hover {background-color: #d4ebff;}#sk-container-id-2 div.sk-parallel-item::after {content: \"\";width: 100%;border-bottom: 1px solid gray;flex-grow: 1;}#sk-container-id-2 div.sk-label:hover label.sk-toggleable__label {background-color: #d4ebff;}#sk-container-id-2 div.sk-serial::before {content: \"\";position: absolute;border-left: 1px solid gray;box-sizing: border-box;top: 0;bottom: 0;left: 50%;z-index: 0;}#sk-container-id-2 div.sk-serial {display: flex;flex-direction: column;align-items: center;background-color: white;padding-right: 0.2em;padding-left: 0.2em;position: relative;}#sk-container-id-2 div.sk-item {position: relative;z-index: 1;}#sk-container-id-2 div.sk-parallel {display: flex;align-items: stretch;justify-content: center;background-color: white;position: relative;}#sk-container-id-2 div.sk-item::before, #sk-container-id-2 div.sk-parallel-item::before {content: \"\";position: absolute;border-left: 1px solid gray;box-sizing: border-box;top: 0;bottom: 0;left: 50%;z-index: -1;}#sk-container-id-2 div.sk-parallel-item {display: flex;flex-direction: column;z-index: 1;position: relative;background-color: white;}#sk-container-id-2 div.sk-parallel-item:first-child::after {align-self: flex-end;width: 50%;}#sk-container-id-2 div.sk-parallel-item:last-child::after {align-self: flex-start;width: 50%;}#sk-container-id-2 div.sk-parallel-item:only-child::after {width: 0;}#sk-container-id-2 div.sk-dashed-wrapped {border: 1px dashed gray;margin: 0 0.4em 0.5em 0.4em;box-sizing: border-box;padding-bottom: 0.4em;background-color: white;}#sk-container-id-2 div.sk-label label {font-family: monospace;font-weight: bold;display: inline-block;line-height: 1.2em;}#sk-container-id-2 div.sk-label-container {text-align: center;}#sk-container-id-2 div.sk-container {/* jupyter's `normalize.less` sets `[hidden] { display: none; }` but bootstrap.min.css set `[hidden] { display: none !important; }` so we also need the `!important` here to be able to override the default hidden behavior on the sphinx rendered scikit-learn.org. See: https://github.com/scikit-learn/scikit-learn/issues/21755 */display: inline-block !important;position: relative;}#sk-container-id-2 div.sk-text-repr-fallback {display: none;}</style><div id=\"sk-container-id-2\" class=\"sk-top-container\"><div class=\"sk-text-repr-fallback\"><pre>Pipeline(steps=[(&#x27;prepare&#x27;,\n",
       "                 Pipeline(steps=[(&#x27;scale_features&#x27;, StandardScaler()),\n",
       "                                 (&#x27;expand_basis&#x27;,\n",
       "                                  NaturalCubicSplineFeatures(df=4,\n",
       "                                                             knots=[array([-1.82312277, -0.69975353, -0.21133212,  0.47245785,  3.89140771]),\n",
       "                                                                    array([-0.79241702, -0.78097425, -0.35650203,  0.40634919,  6.00785675]),\n",
       "                                                                    array([-1.81775279, -0.70471704, -0.19351821,  0.50741636,  5.11908241]),\n",
       "                                                                    array([-0.84327...\n",
       "                                                                    array([-0.69698253, -0.67612752, -0.38988221,  0.28003403,  5.32193836]),\n",
       "                                                                    array([-1.90610262, -0.80969685,  0.1496582 ,  0.83491181,  1.45164006])])),\n",
       "                                 (&#x27;scale_basis&#x27;, StandardScaler()),\n",
       "                                 (&#x27;add_intercept_column&#x27;,\n",
       "                                  FunctionTransformer(func=&lt;function &lt;lambda&gt; at 0x7d5b06304670&gt;,\n",
       "                                                      validate=True))])),\n",
       "                (&#x27;logistic&#x27;,\n",
       "                 LogisticRegression(C=100000000000.0, fit_intercept=False,\n",
       "                                    max_iter=100000, random_state=42))])</pre><b>In a Jupyter environment, please rerun this cell to show the HTML representation or trust the notebook. <br />On GitHub, the HTML representation is unable to render, please try loading this page with nbviewer.org.</b></div><div class=\"sk-container\" hidden><div class=\"sk-item sk-dashed-wrapped\"><div class=\"sk-label-container\"><div class=\"sk-label sk-toggleable\"><input class=\"sk-toggleable__control sk-hidden--visually\" id=\"sk-estimator-id-2\" type=\"checkbox\" ><label for=\"sk-estimator-id-2\" class=\"sk-toggleable__label sk-toggleable__label-arrow\">Pipeline</label><div class=\"sk-toggleable__content\"><pre>Pipeline(steps=[(&#x27;prepare&#x27;,\n",
       "                 Pipeline(steps=[(&#x27;scale_features&#x27;, StandardScaler()),\n",
       "                                 (&#x27;expand_basis&#x27;,\n",
       "                                  NaturalCubicSplineFeatures(df=4,\n",
       "                                                             knots=[array([-1.82312277, -0.69975353, -0.21133212,  0.47245785,  3.89140771]),\n",
       "                                                                    array([-0.79241702, -0.78097425, -0.35650203,  0.40634919,  6.00785675]),\n",
       "                                                                    array([-1.81775279, -0.70471704, -0.19351821,  0.50741636,  5.11908241]),\n",
       "                                                                    array([-0.84327...\n",
       "                                                                    array([-0.69698253, -0.67612752, -0.38988221,  0.28003403,  5.32193836]),\n",
       "                                                                    array([-1.90610262, -0.80969685,  0.1496582 ,  0.83491181,  1.45164006])])),\n",
       "                                 (&#x27;scale_basis&#x27;, StandardScaler()),\n",
       "                                 (&#x27;add_intercept_column&#x27;,\n",
       "                                  FunctionTransformer(func=&lt;function &lt;lambda&gt; at 0x7d5b06304670&gt;,\n",
       "                                                      validate=True))])),\n",
       "                (&#x27;logistic&#x27;,\n",
       "                 LogisticRegression(C=100000000000.0, fit_intercept=False,\n",
       "                                    max_iter=100000, random_state=42))])</pre></div></div></div><div class=\"sk-serial\"><div class=\"sk-item\"><div class=\"sk-label-container\"><div class=\"sk-label sk-toggleable\"><input class=\"sk-toggleable__control sk-hidden--visually\" id=\"sk-estimator-id-3\" type=\"checkbox\" ><label for=\"sk-estimator-id-3\" class=\"sk-toggleable__label sk-toggleable__label-arrow\">prepare: Pipeline</label><div class=\"sk-toggleable__content\"><pre>Pipeline(steps=[(&#x27;scale_features&#x27;, StandardScaler()),\n",
       "                (&#x27;expand_basis&#x27;,\n",
       "                 NaturalCubicSplineFeatures(df=4,\n",
       "                                            knots=[array([-1.82312277, -0.69975353, -0.21133212,  0.47245785,  3.89140771]),\n",
       "                                                   array([-0.79241702, -0.78097425, -0.35650203,  0.40634919,  6.00785675]),\n",
       "                                                   array([-1.81775279, -0.70471704, -0.19351821,  0.50741636,  5.11908241]),\n",
       "                                                   array([-0.84327404,  1.18585412]),\n",
       "                                                   array([-2.69512851, -0.72678241, -0.05680824,  0.58287455,  4.87890572]),\n",
       "                                                   array([-0.69698253, -0.67612752, -0.38988221,  0.28003403,  5.32193836]),\n",
       "                                                   array([-1.90610262, -0.80969685,  0.1496582 ,  0.83491181,  1.45164006])])),\n",
       "                (&#x27;scale_basis&#x27;, StandardScaler()),\n",
       "                (&#x27;add_intercept_column&#x27;,\n",
       "                 FunctionTransformer(func=&lt;function &lt;lambda&gt; at 0x7d5b06304670&gt;,\n",
       "                                     validate=True))])</pre></div></div></div><div class=\"sk-serial\"><div class=\"sk-item\"><div class=\"sk-estimator sk-toggleable\"><input class=\"sk-toggleable__control sk-hidden--visually\" id=\"sk-estimator-id-4\" type=\"checkbox\" ><label for=\"sk-estimator-id-4\" class=\"sk-toggleable__label sk-toggleable__label-arrow\">StandardScaler</label><div class=\"sk-toggleable__content\"><pre>StandardScaler()</pre></div></div></div><div class=\"sk-item\"><div class=\"sk-estimator sk-toggleable\"><input class=\"sk-toggleable__control sk-hidden--visually\" id=\"sk-estimator-id-5\" type=\"checkbox\" ><label for=\"sk-estimator-id-5\" class=\"sk-toggleable__label sk-toggleable__label-arrow\">NaturalCubicSplineFeatures</label><div class=\"sk-toggleable__content\"><pre>NaturalCubicSplineFeatures(df=4,\n",
       "                           knots=[array([-1.82312277, -0.69975353, -0.21133212,  0.47245785,  3.89140771]),\n",
       "                                  array([-0.79241702, -0.78097425, -0.35650203,  0.40634919,  6.00785675]),\n",
       "                                  array([-1.81775279, -0.70471704, -0.19351821,  0.50741636,  5.11908241]),\n",
       "                                  array([-0.84327404,  1.18585412]),\n",
       "                                  array([-2.69512851, -0.72678241, -0.05680824,  0.58287455,  4.87890572]),\n",
       "                                  array([-0.69698253, -0.67612752, -0.38988221,  0.28003403,  5.32193836]),\n",
       "                                  array([-1.90610262, -0.80969685,  0.1496582 ,  0.83491181,  1.45164006])])</pre></div></div></div><div class=\"sk-item\"><div class=\"sk-estimator sk-toggleable\"><input class=\"sk-toggleable__control sk-hidden--visually\" id=\"sk-estimator-id-6\" type=\"checkbox\" ><label for=\"sk-estimator-id-6\" class=\"sk-toggleable__label sk-toggleable__label-arrow\">StandardScaler</label><div class=\"sk-toggleable__content\"><pre>StandardScaler()</pre></div></div></div><div class=\"sk-item\"><div class=\"sk-estimator sk-toggleable\"><input class=\"sk-toggleable__control sk-hidden--visually\" id=\"sk-estimator-id-7\" type=\"checkbox\" ><label for=\"sk-estimator-id-7\" class=\"sk-toggleable__label sk-toggleable__label-arrow\">FunctionTransformer</label><div class=\"sk-toggleable__content\"><pre>FunctionTransformer(func=&lt;function &lt;lambda&gt; at 0x7d5b06304670&gt;, validate=True)</pre></div></div></div></div></div><div class=\"sk-item\"><div class=\"sk-estimator sk-toggleable\"><input class=\"sk-toggleable__control sk-hidden--visually\" id=\"sk-estimator-id-8\" type=\"checkbox\" ><label for=\"sk-estimator-id-8\" class=\"sk-toggleable__label sk-toggleable__label-arrow\">LogisticRegression</label><div class=\"sk-toggleable__content\"><pre>LogisticRegression(C=100000000000.0, fit_intercept=False, max_iter=100000,\n",
       "                   random_state=42)</pre></div></div></div></div></div></div></div>"
      ],
      "text/plain": [
       "Pipeline(steps=[('prepare',\n",
       "                 Pipeline(steps=[('scale_features', StandardScaler()),\n",
       "                                 ('expand_basis',\n",
       "                                  NaturalCubicSplineFeatures(df=4,\n",
       "                                                             knots=[array([-1.82312277, -0.69975353, -0.21133212,  0.47245785,  3.89140771]),\n",
       "                                                                    array([-0.79241702, -0.78097425, -0.35650203,  0.40634919,  6.00785675]),\n",
       "                                                                    array([-1.81775279, -0.70471704, -0.19351821,  0.50741636,  5.11908241]),\n",
       "                                                                    array([-0.84327...\n",
       "                                                                    array([-0.69698253, -0.67612752, -0.38988221,  0.28003403,  5.32193836]),\n",
       "                                                                    array([-1.90610262, -0.80969685,  0.1496582 ,  0.83491181,  1.45164006])])),\n",
       "                                 ('scale_basis', StandardScaler()),\n",
       "                                 ('add_intercept_column',\n",
       "                                  FunctionTransformer(func=<function <lambda> at 0x7d5b06304670>,\n",
       "                                                      validate=True))])),\n",
       "                ('logistic',\n",
       "                 LogisticRegression(C=100000000000.0, fit_intercept=False,\n",
       "                                    max_iter=100000, random_state=42))])"
      ]
     },
     "execution_count": 14,
     "metadata": {},
     "output_type": "execute_result"
    }
   ],
   "source": [
    "expanded_lr.fit(X,y)"
   ]
  },
  {
   "cell_type": "code",
   "execution_count": null,
   "metadata": {
    "colab": {
     "base_uri": "https://localhost:8080/"
    },
    "executionInfo": {
     "elapsed": 8,
     "status": "ok",
     "timestamp": 1711178997964,
     "user": {
      "displayName": "오영민/학생/통계학",
      "userId": "01302137743979307638"
     },
     "user_tz": -540
    },
    "id": "U-yugCg2WA_F",
    "outputId": "ff7c6233-1002-43dd-a195-babbf81d0dd8"
   },
   "outputs": [
    {
     "data": {
      "text/plain": [
       "0.7489177489177489"
      ]
     },
     "execution_count": 15,
     "metadata": {},
     "output_type": "execute_result"
    }
   ],
   "source": [
    "expanded_lr.score(X,y)"
   ]
  },
  {
   "cell_type": "markdown",
   "metadata": {
    "id": "4ejP1jlaGJUo"
   },
   "source": [
    "## Variable Selection using AIC statistic\n",
    "\n",
    "The AIC statistic (Section 7.5) was used to drop terms, and all the terms remaining in the final model would cause AIC to increase if deleted from the model."
   ]
  },
  {
   "cell_type": "code",
   "execution_count": null,
   "metadata": {
    "colab": {
     "base_uri": "https://localhost:8080/"
    },
    "executionInfo": {
     "elapsed": 6,
     "status": "ok",
     "timestamp": 1711178997964,
     "user": {
      "displayName": "오영민/학생/통계학",
      "userId": "01302137743979307638"
     },
     "user_tz": -540
    },
    "id": "fn7nqzHVISt4",
    "outputId": "9960140c-51c5-4dee-b31d-3f7bff6325a4"
   },
   "outputs": [
    {
     "name": "stdout",
     "output_type": "stream",
     "text": [
      "{1, 2, 3, 4, 5, 6}\n",
      "{0, 2, 3, 4, 5, 6}\n",
      "{0, 1, 3, 4, 5, 6}\n",
      "{0, 1, 2, 4, 5, 6}\n",
      "{0, 1, 2, 3, 5, 6}\n",
      "{0, 1, 2, 3, 4, 6}\n",
      "{0, 1, 2, 3, 4, 5}\n"
     ]
    }
   ],
   "source": [
    "selected_idxs = set(range(len(features)))\n",
    "for idx in selected_idxs:\n",
    "    print(selected_idxs - set([idx]))"
   ]
  },
  {
   "cell_type": "code",
   "execution_count": null,
   "metadata": {
    "colab": {
     "base_uri": "https://localhost:8080/"
    },
    "executionInfo": {
     "elapsed": 5,
     "status": "ok",
     "timestamp": 1711178997964,
     "user": {
      "displayName": "오영민/학생/통계학",
      "userId": "01302137743979307638"
     },
     "user_tz": -540
    },
    "id": "99NElVexAtHW",
    "outputId": "d7137d62-b84e-4d20-a6a9-4cb75bd3efb0"
   },
   "outputs": [
    {
     "name": "stdout",
     "output_type": "stream",
     "text": [
      "AIC for full-model:  511.34324945546047\n"
     ]
    }
   ],
   "source": [
    "def subset_aic(selected_idxs):\n",
    "    X_selected = X[:, sorted(list(selected_idxs))]\n",
    "    X_selected_exp = data_pipeline.fit_transform(X_selected)\n",
    "    lr = sm.Logit(y, X_selected_exp).fit_regularized(method='l1',maxiter=1000,disp=False)\n",
    "    return lr.aic\n",
    "\n",
    "\n",
    "current_aic = subset_aic(selected_idxs)\n",
    "print(\"AIC for full-model: \", current_aic)"
   ]
  },
  {
   "cell_type": "code",
   "execution_count": null,
   "metadata": {
    "colab": {
     "base_uri": "https://localhost:8080/"
    },
    "executionInfo": {
     "elapsed": 4678,
     "status": "ok",
     "timestamp": 1711179002638,
     "user": {
      "displayName": "오영민/학생/통계학",
      "userId": "01302137743979307638"
     },
     "user_tz": -540
    },
    "id": "yE-E7m2GJmxZ",
    "outputId": "06034807-08f6-4523-d033-bb123fa54c0f"
   },
   "outputs": [
    {
     "name": "stdout",
     "output_type": "stream",
     "text": [
      "REMOVE: alcohol\n"
     ]
    }
   ],
   "source": [
    "while True:\n",
    "    stat = [(subset_aic(selected_idxs - set([idx])), idx) for idx in selected_idxs]\n",
    "    min_aic,feature_to_remove_idx = min(stat) # Note. only compare first element\n",
    "\n",
    "    if min_aic > current_aic:\n",
    "        break\n",
    "\n",
    "    selected_idxs -= set([feature_to_remove_idx])\n",
    "    current_aic = min_aic\n",
    "    print(f'REMOVE: {features[feature_to_remove_idx]}')"
   ]
  },
  {
   "cell_type": "code",
   "execution_count": null,
   "metadata": {
    "colab": {
     "base_uri": "https://localhost:8080/"
    },
    "executionInfo": {
     "elapsed": 2,
     "status": "ok",
     "timestamp": 1711179002638,
     "user": {
      "displayName": "오영민/학생/통계학",
      "userId": "01302137743979307638"
     },
     "user_tz": -540
    },
    "id": "GEIvsJLRb21T",
    "outputId": "081b6eab-925c-4e18-b87a-fd44edcb564b"
   },
   "outputs": [
    {
     "data": {
      "text/plain": [
       "503.5269562523516"
      ]
     },
     "execution_count": 19,
     "metadata": {},
     "output_type": "execute_result"
    }
   ],
   "source": [
    "current_aic"
   ]
  },
  {
   "cell_type": "code",
   "execution_count": null,
   "metadata": {
    "colab": {
     "base_uri": "https://localhost:8080/",
     "height": 256
    },
    "executionInfo": {
     "elapsed": 1716,
     "status": "ok",
     "timestamp": 1711179004353,
     "user": {
      "displayName": "오영민/학생/통계학",
      "userId": "01302137743979307638"
     },
     "user_tz": -540
    },
    "id": "geZY85TsRoK9",
    "outputId": "f296b715-56df-4cdc-c403-56ae7a363dd5"
   },
   "outputs": [
    {
     "data": {
      "text/html": [
       "<style>#sk-container-id-3 {color: black;background-color: white;}#sk-container-id-3 pre{padding: 0;}#sk-container-id-3 div.sk-toggleable {background-color: white;}#sk-container-id-3 label.sk-toggleable__label {cursor: pointer;display: block;width: 100%;margin-bottom: 0;padding: 0.3em;box-sizing: border-box;text-align: center;}#sk-container-id-3 label.sk-toggleable__label-arrow:before {content: \"▸\";float: left;margin-right: 0.25em;color: #696969;}#sk-container-id-3 label.sk-toggleable__label-arrow:hover:before {color: black;}#sk-container-id-3 div.sk-estimator:hover label.sk-toggleable__label-arrow:before {color: black;}#sk-container-id-3 div.sk-toggleable__content {max-height: 0;max-width: 0;overflow: hidden;text-align: left;background-color: #f0f8ff;}#sk-container-id-3 div.sk-toggleable__content pre {margin: 0.2em;color: black;border-radius: 0.25em;background-color: #f0f8ff;}#sk-container-id-3 input.sk-toggleable__control:checked~div.sk-toggleable__content {max-height: 200px;max-width: 100%;overflow: auto;}#sk-container-id-3 input.sk-toggleable__control:checked~label.sk-toggleable__label-arrow:before {content: \"▾\";}#sk-container-id-3 div.sk-estimator input.sk-toggleable__control:checked~label.sk-toggleable__label {background-color: #d4ebff;}#sk-container-id-3 div.sk-label input.sk-toggleable__control:checked~label.sk-toggleable__label {background-color: #d4ebff;}#sk-container-id-3 input.sk-hidden--visually {border: 0;clip: rect(1px 1px 1px 1px);clip: rect(1px, 1px, 1px, 1px);height: 1px;margin: -1px;overflow: hidden;padding: 0;position: absolute;width: 1px;}#sk-container-id-3 div.sk-estimator {font-family: monospace;background-color: #f0f8ff;border: 1px dotted black;border-radius: 0.25em;box-sizing: border-box;margin-bottom: 0.5em;}#sk-container-id-3 div.sk-estimator:hover {background-color: #d4ebff;}#sk-container-id-3 div.sk-parallel-item::after {content: \"\";width: 100%;border-bottom: 1px solid gray;flex-grow: 1;}#sk-container-id-3 div.sk-label:hover label.sk-toggleable__label {background-color: #d4ebff;}#sk-container-id-3 div.sk-serial::before {content: \"\";position: absolute;border-left: 1px solid gray;box-sizing: border-box;top: 0;bottom: 0;left: 50%;z-index: 0;}#sk-container-id-3 div.sk-serial {display: flex;flex-direction: column;align-items: center;background-color: white;padding-right: 0.2em;padding-left: 0.2em;position: relative;}#sk-container-id-3 div.sk-item {position: relative;z-index: 1;}#sk-container-id-3 div.sk-parallel {display: flex;align-items: stretch;justify-content: center;background-color: white;position: relative;}#sk-container-id-3 div.sk-item::before, #sk-container-id-3 div.sk-parallel-item::before {content: \"\";position: absolute;border-left: 1px solid gray;box-sizing: border-box;top: 0;bottom: 0;left: 50%;z-index: -1;}#sk-container-id-3 div.sk-parallel-item {display: flex;flex-direction: column;z-index: 1;position: relative;background-color: white;}#sk-container-id-3 div.sk-parallel-item:first-child::after {align-self: flex-end;width: 50%;}#sk-container-id-3 div.sk-parallel-item:last-child::after {align-self: flex-start;width: 50%;}#sk-container-id-3 div.sk-parallel-item:only-child::after {width: 0;}#sk-container-id-3 div.sk-dashed-wrapped {border: 1px dashed gray;margin: 0 0.4em 0.5em 0.4em;box-sizing: border-box;padding-bottom: 0.4em;background-color: white;}#sk-container-id-3 div.sk-label label {font-family: monospace;font-weight: bold;display: inline-block;line-height: 1.2em;}#sk-container-id-3 div.sk-label-container {text-align: center;}#sk-container-id-3 div.sk-container {/* jupyter's `normalize.less` sets `[hidden] { display: none; }` but bootstrap.min.css set `[hidden] { display: none !important; }` so we also need the `!important` here to be able to override the default hidden behavior on the sphinx rendered scikit-learn.org. See: https://github.com/scikit-learn/scikit-learn/issues/21755 */display: inline-block !important;position: relative;}#sk-container-id-3 div.sk-text-repr-fallback {display: none;}</style><div id=\"sk-container-id-3\" class=\"sk-top-container\"><div class=\"sk-text-repr-fallback\"><pre>Pipeline(steps=[(&#x27;prepare&#x27;,\n",
       "                 Pipeline(steps=[(&#x27;scale_features&#x27;, StandardScaler()),\n",
       "                                 (&#x27;expand_basis&#x27;,\n",
       "                                  NaturalCubicSplineFeatures(df=4,\n",
       "                                                             knots=[array([-1.82312277, -0.69975353, -0.21133212,  0.47245785,  3.89140771]),\n",
       "                                                                    array([-0.79241702, -0.78097425, -0.35650203,  0.40634919,  6.00785675]),\n",
       "                                                                    array([-1.81775279, -0.70471704, -0.19351821,  0.50741636,  5.11908241]),\n",
       "                                                                    array([-0.84327...\n",
       "                                                                    array([-2.69512851, -0.72678241, -0.05680824,  0.58287455,  4.87890572]),\n",
       "                                                                    array([-1.90610262, -0.80969685,  0.1496582 ,  0.83491181,  1.45164006])])),\n",
       "                                 (&#x27;scale_basis&#x27;, StandardScaler()),\n",
       "                                 (&#x27;add_intercept_column&#x27;,\n",
       "                                  FunctionTransformer(func=&lt;function &lt;lambda&gt; at 0x7d5b06304670&gt;,\n",
       "                                                      validate=True))])),\n",
       "                (&#x27;logistic&#x27;,\n",
       "                 LogisticRegression(C=100000000000.0, fit_intercept=False,\n",
       "                                    max_iter=100000, random_state=42))])</pre><b>In a Jupyter environment, please rerun this cell to show the HTML representation or trust the notebook. <br />On GitHub, the HTML representation is unable to render, please try loading this page with nbviewer.org.</b></div><div class=\"sk-container\" hidden><div class=\"sk-item sk-dashed-wrapped\"><div class=\"sk-label-container\"><div class=\"sk-label sk-toggleable\"><input class=\"sk-toggleable__control sk-hidden--visually\" id=\"sk-estimator-id-9\" type=\"checkbox\" ><label for=\"sk-estimator-id-9\" class=\"sk-toggleable__label sk-toggleable__label-arrow\">Pipeline</label><div class=\"sk-toggleable__content\"><pre>Pipeline(steps=[(&#x27;prepare&#x27;,\n",
       "                 Pipeline(steps=[(&#x27;scale_features&#x27;, StandardScaler()),\n",
       "                                 (&#x27;expand_basis&#x27;,\n",
       "                                  NaturalCubicSplineFeatures(df=4,\n",
       "                                                             knots=[array([-1.82312277, -0.69975353, -0.21133212,  0.47245785,  3.89140771]),\n",
       "                                                                    array([-0.79241702, -0.78097425, -0.35650203,  0.40634919,  6.00785675]),\n",
       "                                                                    array([-1.81775279, -0.70471704, -0.19351821,  0.50741636,  5.11908241]),\n",
       "                                                                    array([-0.84327...\n",
       "                                                                    array([-2.69512851, -0.72678241, -0.05680824,  0.58287455,  4.87890572]),\n",
       "                                                                    array([-1.90610262, -0.80969685,  0.1496582 ,  0.83491181,  1.45164006])])),\n",
       "                                 (&#x27;scale_basis&#x27;, StandardScaler()),\n",
       "                                 (&#x27;add_intercept_column&#x27;,\n",
       "                                  FunctionTransformer(func=&lt;function &lt;lambda&gt; at 0x7d5b06304670&gt;,\n",
       "                                                      validate=True))])),\n",
       "                (&#x27;logistic&#x27;,\n",
       "                 LogisticRegression(C=100000000000.0, fit_intercept=False,\n",
       "                                    max_iter=100000, random_state=42))])</pre></div></div></div><div class=\"sk-serial\"><div class=\"sk-item\"><div class=\"sk-label-container\"><div class=\"sk-label sk-toggleable\"><input class=\"sk-toggleable__control sk-hidden--visually\" id=\"sk-estimator-id-10\" type=\"checkbox\" ><label for=\"sk-estimator-id-10\" class=\"sk-toggleable__label sk-toggleable__label-arrow\">prepare: Pipeline</label><div class=\"sk-toggleable__content\"><pre>Pipeline(steps=[(&#x27;scale_features&#x27;, StandardScaler()),\n",
       "                (&#x27;expand_basis&#x27;,\n",
       "                 NaturalCubicSplineFeatures(df=4,\n",
       "                                            knots=[array([-1.82312277, -0.69975353, -0.21133212,  0.47245785,  3.89140771]),\n",
       "                                                   array([-0.79241702, -0.78097425, -0.35650203,  0.40634919,  6.00785675]),\n",
       "                                                   array([-1.81775279, -0.70471704, -0.19351821,  0.50741636,  5.11908241]),\n",
       "                                                   array([-0.84327404,  1.18585412]),\n",
       "                                                   array([-2.69512851, -0.72678241, -0.05680824,  0.58287455,  4.87890572]),\n",
       "                                                   array([-1.90610262, -0.80969685,  0.1496582 ,  0.83491181,  1.45164006])])),\n",
       "                (&#x27;scale_basis&#x27;, StandardScaler()),\n",
       "                (&#x27;add_intercept_column&#x27;,\n",
       "                 FunctionTransformer(func=&lt;function &lt;lambda&gt; at 0x7d5b06304670&gt;,\n",
       "                                     validate=True))])</pre></div></div></div><div class=\"sk-serial\"><div class=\"sk-item\"><div class=\"sk-estimator sk-toggleable\"><input class=\"sk-toggleable__control sk-hidden--visually\" id=\"sk-estimator-id-11\" type=\"checkbox\" ><label for=\"sk-estimator-id-11\" class=\"sk-toggleable__label sk-toggleable__label-arrow\">StandardScaler</label><div class=\"sk-toggleable__content\"><pre>StandardScaler()</pre></div></div></div><div class=\"sk-item\"><div class=\"sk-estimator sk-toggleable\"><input class=\"sk-toggleable__control sk-hidden--visually\" id=\"sk-estimator-id-12\" type=\"checkbox\" ><label for=\"sk-estimator-id-12\" class=\"sk-toggleable__label sk-toggleable__label-arrow\">NaturalCubicSplineFeatures</label><div class=\"sk-toggleable__content\"><pre>NaturalCubicSplineFeatures(df=4,\n",
       "                           knots=[array([-1.82312277, -0.69975353, -0.21133212,  0.47245785,  3.89140771]),\n",
       "                                  array([-0.79241702, -0.78097425, -0.35650203,  0.40634919,  6.00785675]),\n",
       "                                  array([-1.81775279, -0.70471704, -0.19351821,  0.50741636,  5.11908241]),\n",
       "                                  array([-0.84327404,  1.18585412]),\n",
       "                                  array([-2.69512851, -0.72678241, -0.05680824,  0.58287455,  4.87890572]),\n",
       "                                  array([-1.90610262, -0.80969685,  0.1496582 ,  0.83491181,  1.45164006])])</pre></div></div></div><div class=\"sk-item\"><div class=\"sk-estimator sk-toggleable\"><input class=\"sk-toggleable__control sk-hidden--visually\" id=\"sk-estimator-id-13\" type=\"checkbox\" ><label for=\"sk-estimator-id-13\" class=\"sk-toggleable__label sk-toggleable__label-arrow\">StandardScaler</label><div class=\"sk-toggleable__content\"><pre>StandardScaler()</pre></div></div></div><div class=\"sk-item\"><div class=\"sk-estimator sk-toggleable\"><input class=\"sk-toggleable__control sk-hidden--visually\" id=\"sk-estimator-id-14\" type=\"checkbox\" ><label for=\"sk-estimator-id-14\" class=\"sk-toggleable__label sk-toggleable__label-arrow\">FunctionTransformer</label><div class=\"sk-toggleable__content\"><pre>FunctionTransformer(func=&lt;function &lt;lambda&gt; at 0x7d5b06304670&gt;, validate=True)</pre></div></div></div></div></div><div class=\"sk-item\"><div class=\"sk-estimator sk-toggleable\"><input class=\"sk-toggleable__control sk-hidden--visually\" id=\"sk-estimator-id-15\" type=\"checkbox\" ><label for=\"sk-estimator-id-15\" class=\"sk-toggleable__label sk-toggleable__label-arrow\">LogisticRegression</label><div class=\"sk-toggleable__content\"><pre>LogisticRegression(C=100000000000.0, fit_intercept=False, max_iter=100000,\n",
       "                   random_state=42)</pre></div></div></div></div></div></div></div>"
      ],
      "text/plain": [
       "Pipeline(steps=[('prepare',\n",
       "                 Pipeline(steps=[('scale_features', StandardScaler()),\n",
       "                                 ('expand_basis',\n",
       "                                  NaturalCubicSplineFeatures(df=4,\n",
       "                                                             knots=[array([-1.82312277, -0.69975353, -0.21133212,  0.47245785,  3.89140771]),\n",
       "                                                                    array([-0.79241702, -0.78097425, -0.35650203,  0.40634919,  6.00785675]),\n",
       "                                                                    array([-1.81775279, -0.70471704, -0.19351821,  0.50741636,  5.11908241]),\n",
       "                                                                    array([-0.84327...\n",
       "                                                                    array([-2.69512851, -0.72678241, -0.05680824,  0.58287455,  4.87890572]),\n",
       "                                                                    array([-1.90610262, -0.80969685,  0.1496582 ,  0.83491181,  1.45164006])])),\n",
       "                                 ('scale_basis', StandardScaler()),\n",
       "                                 ('add_intercept_column',\n",
       "                                  FunctionTransformer(func=<function <lambda> at 0x7d5b06304670>,\n",
       "                                                      validate=True))])),\n",
       "                ('logistic',\n",
       "                 LogisticRegression(C=100000000000.0, fit_intercept=False,\n",
       "                                    max_iter=100000, random_state=42))])"
      ]
     },
     "execution_count": 20,
     "metadata": {},
     "output_type": "execute_result"
    }
   ],
   "source": [
    "selected_idxs = sorted(list(selected_idxs))\n",
    "X_selected = X[:,selected_idxs]\n",
    "expanded_lr.fit(X_selected, y)"
   ]
  },
  {
   "cell_type": "markdown",
   "metadata": {
    "id": "xubLOaIsPCHo"
   },
   "source": [
    "$\\hat{f}_j(X_j) = h_j(X_j)^T\\hat{\\theta}_j$ for each feature. And shaded region is cumpted by $$\\hat{f}_j(X_j) \\pm 2\\sqrt{v_j(X_j)}$$ where $$v_j(X_j) = Var[\\hat{f}_j(X_j)] = h_j(X_j)^T\\Sigma_{jj}h_j(X_j) $$\n",
    "\n",
    "$\\Sigma$ is estimated by $\\hat{\\Sigma} = (\\mathbf{X}^T\\mathbf{W}\\mathbf{X})^{-1}$ where $\\mathbf{W}$ is the diagonal weight matrix from the logistic regression i.e. diag($p_i(1-p_i)$) $\\in \\mathbb{R}^{N \\times N}$"
   ]
  },
  {
   "cell_type": "code",
   "execution_count": null,
   "metadata": {
    "id": "KGPR95GBcSZ_"
   },
   "outputs": [],
   "source": [
    "H = data_pipeline.fit_transform(X_selected)\n",
    "predProbs = expanded_lr.predict_proba(X_selected)\n",
    "W = np.diagflat(np.product(predProbs, axis=1))\n",
    "cov = np.linalg.inv(H.T @ W @ H)"
   ]
  },
  {
   "cell_type": "code",
   "execution_count": null,
   "metadata": {
    "colab": {
     "base_uri": "https://localhost:8080/"
    },
    "executionInfo": {
     "elapsed": 4,
     "status": "ok",
     "timestamp": 1711179004353,
     "user": {
      "displayName": "오영민/학생/통계학",
      "userId": "01302137743979307638"
     },
     "user_tz": -540
    },
    "id": "RoHrn14LRMcI",
    "outputId": "8ecbe552-7ff3-4dff-e017-b79a1a32f1ac"
   },
   "outputs": [
    {
     "data": {
      "text/plain": [
       "array([[ 1.        , -1.82312277, -0.61041256, -0.40654788, -0.34857527],\n",
       "       [ 1.        , -1.76540024, -0.6104022 , -0.40654788, -0.34857527],\n",
       "       [ 1.        , -1.70767771, -0.61032963, -0.40654788, -0.34857527],\n",
       "       [ 1.        , -1.64995518, -0.61013266, -0.40654788, -0.34857527],\n",
       "       [ 1.        , -1.59223265, -0.6097491 , -0.40654788, -0.34857527]])"
      ]
     },
     "execution_count": 22,
     "metadata": {},
     "output_type": "execute_result"
    }
   ],
   "source": [
    "X_min, X_max = np.min(X_selected, axis = 0), np.max(X_selected, axis = 0)\n",
    "x_vals = np.vstack([np.linspace(X_min[i], X_max[i], 100)\n",
    "                    for i in range(X_min.shape[0])]).T\n",
    "x_vals_exp = data_pipeline.transform(x_vals)\n",
    "x_vals_exp[:5,:5]"
   ]
  },
  {
   "cell_type": "code",
   "execution_count": null,
   "metadata": {
    "id": "LLgwgbngTE4u"
   },
   "outputs": [],
   "source": [
    "x_vals_exp = x_vals_exp[:,1:] # drop intercept\n",
    "cov = cov[1:, 1:]"
   ]
  },
  {
   "cell_type": "code",
   "execution_count": null,
   "metadata": {
    "id": "ZHt-hzVqTQu6"
   },
   "outputs": [],
   "source": [
    "def plot_term_natural_spline_function(ax, feature_idx, name):\n",
    "    basis_start, basis_end = ncs_features.positions_[feature_idx]\n",
    "    # calculate feature expansion matrix, feature cov and feature err\n",
    "    feature_exp = x_vals_exp[:, basis_start:basis_end+1]\n",
    "    feature_lr_coef = lr.coef_[:, basis_start+1:basis_end+2].T\n",
    "    feature_cov = cov[basis_start:basis_end+1, basis_start:basis_end+1]\n",
    "    feature_err = 2*np.sqrt(np.diag(feature_exp @ feature_cov @ feature_exp.T))\n",
    "    feature_x_vals = x_vals[:, feature_idx]\n",
    "    feature_y_vals = np.squeeze(feature_exp @ feature_lr_coef)\n",
    "    # plot shaded region\n",
    "    ax.fill_between(feature_x_vals,\n",
    "                    feature_y_vals - feature_err,\n",
    "                    feature_y_vals + feature_err,\n",
    "                    color='#FFEC8B')\n",
    "    # plot function line\n",
    "    ax.plot(feature_x_vals, feature_y_vals, color='#00FF00', linewidth=0.8)\n",
    "    # plot bottom red lines representing samples\n",
    "    y_from, y_to = ax.get_ylim()\n",
    "    for i in range(X_selected.shape[0]):\n",
    "        x = X_selected[i, feature_idx]\n",
    "        ax.plot([x, x], [y_from, y_from+(y_to-y_from)*0.02],\n",
    "                color='red', linewidth=0.5)\n",
    "    ax.set_ylim(y_from, y_to)\n",
    "    # title the plot and set ticks\n",
    "    for l in ax.get_yticklabels() + ax.get_xticklabels():\n",
    "        l.set_fontsize(6)\n",
    "    ax.set_xlabel(f'{name}', color='#646369', fontsize=8)\n",
    "    ax.set_ylabel(f'f({name})', color='#646369', fontsize=8)"
   ]
  },
  {
   "cell_type": "code",
   "execution_count": null,
   "metadata": {
    "colab": {
     "base_uri": "https://localhost:8080/",
     "height": 959
    },
    "executionInfo": {
     "elapsed": 10894,
     "status": "ok",
     "timestamp": 1711179015244,
     "user": {
      "displayName": "오영민/학생/통계학",
      "userId": "01302137743979307638"
     },
     "user_tz": -540
    },
    "id": "CdR1wab1U--R",
    "outputId": "a1f6f3c4-79ec-4d26-8a91-f444d728a6bb"
   },
   "outputs": [
    {
     "data": {
      "image/png": "[encoded data removed]",
      "text/plain": [
       "<Figure size 990x1035 with 6 Axes>"
      ]
     },
     "metadata": {},
     "output_type": "display_data"
    }
   ],
   "source": [
    "fig, axarr = plt.subplots(3, 2, figsize=(3.3*2, 2.3*3), dpi=150)\n",
    "plt.subplots_adjust(bottom=0.05)\n",
    "plot_term_natural_spline_function(axarr[0, 0], 0, 'sbp')\n",
    "plot_term_natural_spline_function(axarr[0, 1], 1, 'tobacco')\n",
    "plot_term_natural_spline_function(axarr[1, 0], 2, 'ldl')\n",
    "plot_term_natural_spline_function(axarr[1, 1], 3, 'famhist')\n",
    "plot_term_natural_spline_function(axarr[2, 0], 4, 'obesity')\n",
    "plot_term_natural_spline_function(axarr[2, 1], 5, 'age')"
   ]
  },
  {
   "cell_type": "markdown",
   "metadata": {
    "id": "WR4af8JAUSvL"
   },
   "source": [
    "# 3. Smooting Splines"
   ]
  },
  {
   "cell_type": "code",
   "execution_count": null,
   "metadata": {
    "colab": {
     "base_uri": "https://localhost:8080/",
     "height": 206
    },
    "executionInfo": {
     "elapsed": 8,
     "status": "ok",
     "timestamp": 1711179015244,
     "user": {
      "displayName": "오영민/학생/통계학",
      "userId": "01302137743979307638"
     },
     "user_tz": -540
    },
    "id": "MvR83150UUht",
    "outputId": "b507b337-45ff-4f68-8aa6-61f83659dc67"
   },
   "outputs": [
    {
     "data": {
      "application/vnd.google.colaboratory.intrinsic+json": {
       "summary": "{\n  \"name\": \"df_bmd\",\n  \"rows\": 485,\n  \"fields\": [\n    {\n      \"column\": \"idnum\",\n      \"properties\": {\n        \"dtype\": \"number\",\n        \"std\": 107,\n        \"min\": 1,\n        \"max\": 384,\n        \"num_unique_values\": 261,\n        \"samples\": [\n          35,\n          194,\n          240\n        ],\n        \"semantic_type\": \"\",\n        \"description\": \"\"\n      }\n    },\n    {\n      \"column\": \"age\",\n      \"properties\": {\n        \"dtype\": \"number\",\n        \"std\": 4.078038869131551,\n        \"min\": 9.4,\n        \"max\": 25.55,\n        \"num_unique_values\": 239,\n        \"samples\": [\n          14.1,\n          11.4,\n          10.85\n        ],\n        \"semantic_type\": \"\",\n        \"description\": \"\"\n      }\n    },\n    {\n      \"column\": \"gender\",\n      \"properties\": {\n        \"dtype\": \"category\",\n        \"num_unique_values\": 2,\n        \"samples\": [\n          \"female\",\n          \"male\"\n        ],\n        \"semantic_type\": \"\",\n        \"description\": \"\"\n      }\n    },\n    {\n      \"column\": \"spnbmd\",\n      \"properties\": {\n        \"dtype\": \"number\",\n        \"std\": 0.04964001977872855,\n        \"min\": -0.06410256,\n        \"max\": 0.2199125,\n        \"num_unique_values\": 481,\n        \"samples\": [\n          0.1165981,\n          0.1613262\n        ],\n        \"semantic_type\": \"\",\n        \"description\": \"\"\n      }\n    }\n  ]\n}",
       "type": "dataframe",
       "variable_name": "df_bmd"
      },
      "text/html": [
       "\n",
       "  <div id=\"df-a4f04396-7d51-4a04-a314-7737af4f871e\" class=\"colab-df-container\">\n",
       "    <div>\n",
       "<style scoped>\n",
       "    .dataframe tbody tr th:only-of-type {\n",
       "        vertical-align: middle;\n",
       "    }\n",
       "\n",
       "    .dataframe tbody tr th {\n",
       "        vertical-align: top;\n",
       "    }\n",
       "\n",
       "    .dataframe thead th {\n",
       "        text-align: right;\n",
       "    }\n",
       "</style>\n",
       "<table border=\"1\" class=\"dataframe\">\n",
       "  <thead>\n",
       "    <tr style=\"text-align: right;\">\n",
       "      <th></th>\n",
       "      <th>idnum</th>\n",
       "      <th>age</th>\n",
       "      <th>gender</th>\n",
       "      <th>spnbmd</th>\n",
       "    </tr>\n",
       "  </thead>\n",
       "  <tbody>\n",
       "    <tr>\n",
       "      <th>0</th>\n",
       "      <td>1</td>\n",
       "      <td>11.70</td>\n",
       "      <td>male</td>\n",
       "      <td>0.018081</td>\n",
       "    </tr>\n",
       "    <tr>\n",
       "      <th>1</th>\n",
       "      <td>1</td>\n",
       "      <td>12.70</td>\n",
       "      <td>male</td>\n",
       "      <td>0.060109</td>\n",
       "    </tr>\n",
       "    <tr>\n",
       "      <th>2</th>\n",
       "      <td>1</td>\n",
       "      <td>13.75</td>\n",
       "      <td>male</td>\n",
       "      <td>0.005858</td>\n",
       "    </tr>\n",
       "    <tr>\n",
       "      <th>3</th>\n",
       "      <td>2</td>\n",
       "      <td>13.25</td>\n",
       "      <td>male</td>\n",
       "      <td>0.010264</td>\n",
       "    </tr>\n",
       "    <tr>\n",
       "      <th>4</th>\n",
       "      <td>2</td>\n",
       "      <td>14.30</td>\n",
       "      <td>male</td>\n",
       "      <td>0.210526</td>\n",
       "    </tr>\n",
       "  </tbody>\n",
       "</table>\n",
       "</div>\n",
       "    <div class=\"colab-df-buttons\">\n",
       "\n",
       "  <div class=\"colab-df-container\">\n",
       "    <button class=\"colab-df-convert\" onclick=\"convertToInteractive('df-a4f04396-7d51-4a04-a314-7737af4f871e')\"\n",
       "            title=\"Convert this dataframe to an interactive table.\"\n",
       "            style=\"display:none;\">\n",
       "\n",
       "  <svg xmlns=\"http://www.w3.org/2000/svg\" height=\"24px\" viewBox=\"0 -960 960 960\">\n",
       "    <path d=\"M120-120v-720h720v720H120Zm60-500h600v-160H180v160Zm220 220h160v-160H400v160Zm0 220h160v-160H400v160ZM180-400h160v-160H180v160Zm440 0h160v-160H620v160ZM180-180h160v-160H180v160Zm440 0h160v-160H620v160Z\"/>\n",
       "  </svg>\n",
       "    </button>\n",
       "\n",
       "  <style>\n",
       "    .colab-df-container {\n",
       "      display:flex;\n",
       "      gap: 12px;\n",
       "    }\n",
       "\n",
       "    .colab-df-convert {\n",
       "      background-color: #E8F0FE;\n",
       "      border: none;\n",
       "      border-radius: 50%;\n",
       "      cursor: pointer;\n",
       "      display: none;\n",
       "      fill: #1967D2;\n",
       "      height: 32px;\n",
       "      padding: 0 0 0 0;\n",
       "      width: 32px;\n",
       "    }\n",
       "\n",
       "    .colab-df-convert:hover {\n",
       "      background-color: #E2EBFA;\n",
       "      box-shadow: 0px 1px 2px rgba(60, 64, 67, 0.3), 0px 1px 3px 1px rgba(60, 64, 67, 0.15);\n",
       "      fill: #174EA6;\n",
       "    }\n",
       "\n",
       "    .colab-df-buttons div {\n",
       "      margin-bottom: 4px;\n",
       "    }\n",
       "\n",
       "    [theme=dark] .colab-df-convert {\n",
       "      background-color: #3B4455;\n",
       "      fill: #D2E3FC;\n",
       "    }\n",
       "\n",
       "    [theme=dark] .colab-df-convert:hover {\n",
       "      background-color: #434B5C;\n",
       "      box-shadow: 0px 1px 3px 1px rgba(0, 0, 0, 0.15);\n",
       "      filter: drop-shadow(0px 1px 2px rgba(0, 0, 0, 0.3));\n",
       "      fill: #FFFFFF;\n",
       "    }\n",
       "  </style>\n",
       "\n",
       "    <script>\n",
       "      const buttonEl =\n",
       "        document.querySelector('#df-a4f04396-7d51-4a04-a314-7737af4f871e button.colab-df-convert');\n",
       "      buttonEl.style.display =\n",
       "        google.colab.kernel.accessAllowed ? 'block' : 'none';\n",
       "\n",
       "      async function convertToInteractive(key) {\n",
       "        const element = document.querySelector('#df-a4f04396-7d51-4a04-a314-7737af4f871e');\n",
       "        const dataTable =\n",
       "          await google.colab.kernel.invokeFunction('convertToInteractive',\n",
       "                                                    [key], {});\n",
       "        if (!dataTable) return;\n",
       "\n",
       "        const docLinkHtml = 'Like what you see? Visit the ' +\n",
       "          '<a target=\"_blank\" href=https://colab.research.google.com/notebooks/data_table.ipynb>data table notebook</a>'\n",
       "          + ' to learn more about interactive tables.';\n",
       "        element.innerHTML = '';\n",
       "        dataTable['output_type'] = 'display_data';\n",
       "        await google.colab.output.renderOutput(dataTable, element);\n",
       "        const docLink = document.createElement('div');\n",
       "        docLink.innerHTML = docLinkHtml;\n",
       "        element.appendChild(docLink);\n",
       "      }\n",
       "    </script>\n",
       "  </div>\n",
       "\n",
       "\n",
       "<div id=\"df-b7ca0901-2883-4c9d-9ff0-2b4e85ae0f94\">\n",
       "  <button class=\"colab-df-quickchart\" onclick=\"quickchart('df-b7ca0901-2883-4c9d-9ff0-2b4e85ae0f94')\"\n",
       "            title=\"Suggest charts\"\n",
       "            style=\"display:none;\">\n",
       "\n",
       "<svg xmlns=\"http://www.w3.org/2000/svg\" height=\"24px\"viewBox=\"0 0 24 24\"\n",
       "     width=\"24px\">\n",
       "    <g>\n",
       "        <path d=\"M19 3H5c-1.1 0-2 .9-2 2v14c0 1.1.9 2 2 2h14c1.1 0 2-.9 2-2V5c0-1.1-.9-2-2-2zM9 17H7v-7h2v7zm4 0h-2V7h2v10zm4 0h-2v-4h2v4z\"/>\n",
       "    </g>\n",
       "</svg>\n",
       "  </button>\n",
       "\n",
       "<style>\n",
       "  .colab-df-quickchart {\n",
       "      --bg-color: #E8F0FE;\n",
       "      --fill-color: #1967D2;\n",
       "      --hover-bg-color: #E2EBFA;\n",
       "      --hover-fill-color: #174EA6;\n",
       "      --disabled-fill-color: #AAA;\n",
       "      --disabled-bg-color: #DDD;\n",
       "  }\n",
       "\n",
       "  [theme=dark] .colab-df-quickchart {\n",
       "      --bg-color: #3B4455;\n",
       "      --fill-color: #D2E3FC;\n",
       "      --hover-bg-color: #434B5C;\n",
       "      --hover-fill-color: #FFFFFF;\n",
       "      --disabled-bg-color: #3B4455;\n",
       "      --disabled-fill-color: #666;\n",
       "  }\n",
       "\n",
       "  .colab-df-quickchart {\n",
       "    background-color: var(--bg-color);\n",
       "    border: none;\n",
       "    border-radius: 50%;\n",
       "    cursor: pointer;\n",
       "    display: none;\n",
       "    fill: var(--fill-color);\n",
       "    height: 32px;\n",
       "    padding: 0;\n",
       "    width: 32px;\n",
       "  }\n",
       "\n",
       "  .colab-df-quickchart:hover {\n",
       "    background-color: var(--hover-bg-color);\n",
       "    box-shadow: 0 1px 2px rgba(60, 64, 67, 0.3), 0 1px 3px 1px rgba(60, 64, 67, 0.15);\n",
       "    fill: var(--button-hover-fill-color);\n",
       "  }\n",
       "\n",
       "  .colab-df-quickchart-complete:disabled,\n",
       "  .colab-df-quickchart-complete:disabled:hover {\n",
       "    background-color: var(--disabled-bg-color);\n",
       "    fill: var(--disabled-fill-color);\n",
       "    box-shadow: none;\n",
       "  }\n",
       "\n",
       "  .colab-df-spinner {\n",
       "    border: 2px solid var(--fill-color);\n",
       "    border-color: transparent;\n",
       "    border-bottom-color: var(--fill-color);\n",
       "    animation:\n",
       "      spin 1s steps(1) infinite;\n",
       "  }\n",
       "\n",
       "  @keyframes spin {\n",
       "    0% {\n",
       "      border-color: transparent;\n",
       "      border-bottom-color: var(--fill-color);\n",
       "      border-left-color: var(--fill-color);\n",
       "    }\n",
       "    20% {\n",
       "      border-color: transparent;\n",
       "      border-left-color: var(--fill-color);\n",
       "      border-top-color: var(--fill-color);\n",
       "    }\n",
       "    30% {\n",
       "      border-color: transparent;\n",
       "      border-left-color: var(--fill-color);\n",
       "      border-top-color: var(--fill-color);\n",
       "      border-right-color: var(--fill-color);\n",
       "    }\n",
       "    40% {\n",
       "      border-color: transparent;\n",
       "      border-right-color: var(--fill-color);\n",
       "      border-top-color: var(--fill-color);\n",
       "    }\n",
       "    60% {\n",
       "      border-color: transparent;\n",
       "      border-right-color: var(--fill-color);\n",
       "    }\n",
       "    80% {\n",
       "      border-color: transparent;\n",
       "      border-right-color: var(--fill-color);\n",
       "      border-bottom-color: var(--fill-color);\n",
       "    }\n",
       "    90% {\n",
       "      border-color: transparent;\n",
       "      border-bottom-color: var(--fill-color);\n",
       "    }\n",
       "  }\n",
       "</style>\n",
       "\n",
       "  <script>\n",
       "    async function quickchart(key) {\n",
       "      const quickchartButtonEl =\n",
       "        document.querySelector('#' + key + ' button');\n",
       "      quickchartButtonEl.disabled = true;  // To prevent multiple clicks.\n",
       "      quickchartButtonEl.classList.add('colab-df-spinner');\n",
       "      try {\n",
       "        const charts = await google.colab.kernel.invokeFunction(\n",
       "            'suggestCharts', [key], {});\n",
       "      } catch (error) {\n",
       "        console.error('Error during call to suggestCharts:', error);\n",
       "      }\n",
       "      quickchartButtonEl.classList.remove('colab-df-spinner');\n",
       "      quickchartButtonEl.classList.add('colab-df-quickchart-complete');\n",
       "    }\n",
       "    (() => {\n",
       "      let quickchartButtonEl =\n",
       "        document.querySelector('#df-b7ca0901-2883-4c9d-9ff0-2b4e85ae0f94 button');\n",
       "      quickchartButtonEl.style.display =\n",
       "        google.colab.kernel.accessAllowed ? 'block' : 'none';\n",
       "    })();\n",
       "  </script>\n",
       "</div>\n",
       "    </div>\n",
       "  </div>\n"
      ],
      "text/plain": [
       "   idnum    age gender    spnbmd\n",
       "0      1  11.70   male  0.018081\n",
       "1      1  12.70   male  0.060109\n",
       "2      1  13.75   male  0.005858\n",
       "3      2  13.25   male  0.010264\n",
       "4      2  14.30   male  0.210526"
      ]
     },
     "execution_count": 26,
     "metadata": {},
     "output_type": "execute_result"
    }
   ],
   "source": [
    "file_dir_bmd = \"\"\n",
    "df_bmd = pd.read_csv(file_dir_bmd,sep='\\t')\n",
    "df_bmd.head()"
   ]
  },
  {
   "cell_type": "code",
   "execution_count": null,
   "metadata": {
    "id": "jfwwT0iaUdkj"
   },
   "outputs": [],
   "source": [
    "df_male = df_bmd[df_bmd.gender == 'male']\n",
    "X_male, y_male = df_male[['age']].values, df_male.spnbmd.values"
   ]
  },
  {
   "cell_type": "code",
   "execution_count": null,
   "metadata": {
    "colab": {
     "base_uri": "https://localhost:8080/"
    },
    "executionInfo": {
     "elapsed": 6,
     "status": "ok",
     "timestamp": 1711179015244,
     "user": {
      "displayName": "오영민/학생/통계학",
      "userId": "01302137743979307638"
     },
     "user_tz": -540
    },
    "id": "bu_hwIrA4ysY",
    "outputId": "1cb09fe4-d265-43f7-f32d-847d555f48a8"
   },
   "outputs": [
    {
     "data": {
      "text/plain": [
       "(152,)"
      ]
     },
     "execution_count": 28,
     "metadata": {},
     "output_type": "execute_result"
    }
   ],
   "source": [
    "np.unique(X_male).shape # X is not unique!"
   ]
  },
  {
   "cell_type": "code",
   "execution_count": null,
   "metadata": {
    "colab": {
     "base_uri": "https://localhost:8080/"
    },
    "executionInfo": {
     "elapsed": 5,
     "status": "ok",
     "timestamp": 1711179015244,
     "user": {
      "displayName": "오영민/학생/통계학",
      "userId": "01302137743979307638"
     },
     "user_tz": -540
    },
    "id": "dYyjwj5rY6wJ",
    "outputId": "8747aa0f-41ee-4fe3-fd21-762ca792d08a"
   },
   "outputs": [
    {
     "data": {
      "text/plain": [
       "(226, 152)"
      ]
     },
     "execution_count": 29,
     "metadata": {},
     "output_type": "execute_result"
    }
   ],
   "source": [
    "knots = np.unique(X_male)\n",
    "\n",
    "def expand_natural_cubic_1D(X,ks):\n",
    "    basis_splines = [np.ones(shape=(X.shape[0],1)), X] ## add intercept\n",
    "    dki_last = dk(X,ks[-2],ks[-1])\n",
    "    for knot in ks[:-2]:\n",
    "        dki = dk(X,knot,ks[-1])\n",
    "        basis_splines.append(dki - dki_last)\n",
    "\n",
    "    return np.hstack(basis_splines)\n",
    "\n",
    "N = expand_natural_cubic_1D(X_male,knots)\n",
    "N.shape"
   ]
  },
  {
   "cell_type": "markdown",
   "metadata": {
    "id": "rUFyftn8ntTt"
   },
   "source": [
    "\n",
    "$$ \\begin{align*}\\{\\Omega_N \\}_{ij} &= \\int N_i^{''}(t)N_j^{''}(t)dt \\\\\n",
    "                                   &= \\int_{\\xi_j}^{\\xi_K} (dk^{''}(t,i) - dk^{''}(t,K-1))(dk^{''}(t,j) - dk^{''}(t,K-1))dt \\\\\n",
    "                                   &= \\int_{\\xi_j}^{\\xi_{K-1}}dk^{''}(t,i)dk^{''}(t,j)dt + \\int_{\\xi_{K-1}}^{\\xi_K} (dk^{''}(t,i) - dk^{''}(t,K-1))(dk^{''}(t,j) - dk^{''}(t,K-1))dt\n",
    "\n",
    "\\end{align*} $$"
   ]
  },
  {
   "cell_type": "markdown",
   "metadata": {
    "id": "bGLAOqTnoWx3"
   },
   "source": []
  },
  {
   "cell_type": "markdown",
   "metadata": {
    "id": "RD8Q4fEi8i89"
   },
   "source": [
    "\n",
    "\n",
    "Note that first & second columns and rows for $\\Omega_N$ is zero vector"
   ]
  },
  {
   "cell_type": "code",
   "execution_count": null,
   "metadata": {
    "id": "tqoCUvk9ZIqx"
   },
   "outputs": [],
   "source": [
    "from sympy import symbols, integrate, init_printing, simplify\n",
    "init_printing()"
   ]
  },
  {
   "cell_type": "code",
   "execution_count": null,
   "metadata": {
    "colab": {
     "base_uri": "https://localhost:8080/",
     "height": 61
    },
    "executionInfo": {
     "elapsed": 4537,
     "status": "ok",
     "timestamp": 1711179021891,
     "user": {
      "displayName": "오영민/학생/통계학",
      "userId": "01302137743979307638"
     },
     "user_tz": -540
    },
    "id": "GVdnjYdCZIty",
    "outputId": "578a63ef-1dda-41e8-95fd-7cfa0022daf6"
   },
   "outputs": [
    {
     "data": {
      "text/latex": [
       "$\\displaystyle \\frac{6 \\left(- 3 \\xi_{i} \\xi_{j}^{2} + 4 \\xi_{i} \\xi_{j} \\xi_{K-1} + 2 \\xi_{i} \\xi_{j} \\xi_{K} - \\xi_{i} \\xi_{K-1}^{2} - 2 \\xi_{i} \\xi_{K-1} \\xi_{K} + \\xi_{j}^{3} - \\xi_{j} \\xi_{K-1}^{2} - 2 \\xi_{j} \\xi_{K-1} \\xi_{K} + 2 \\xi_{K-1}^{2} \\xi_{K}\\right)}{\\xi_{i} \\xi_{j} - \\xi_{i} \\xi_{K} - \\xi_{j} \\xi_{K} + \\xi_{K}^{2}}$"
      ],
      "text/plain": [
       "  ⎛              2                                                            \n",
       "6⋅⎝- 3⋅\\xiᵢ⋅\\xi_j  + 4⋅\\xiᵢ⋅\\xi_j⋅\\xi_{K-1} + 2⋅\\xiᵢ⋅\\xi_j⋅\\xi_{K} - \\xiᵢ⋅\\xi_\n",
       "──────────────────────────────────────────────────────────────────────────────\n",
       "                                                                              \n",
       "                                                                      \\xiᵢ⋅\\xi\n",
       "\n",
       "     2                                   3                  2                 \n",
       "{K-1}  - 2⋅\\xiᵢ⋅\\xi_{K-1}⋅\\xi_{K} + \\xi_j  - \\xi_j⋅\\xi_{K-1}  - 2⋅\\xi_j⋅\\xi_{K\n",
       "──────────────────────────────────────────────────────────────────────────────\n",
       "                                           2                                  \n",
       "_j - \\xiᵢ⋅\\xi_{K} - \\xi_j⋅\\xi_{K} + \\xi_{K}                                   \n",
       "\n",
       "                         2        ⎞\n",
       "-1}⋅\\xi_{K} + 2⋅\\xi_{K-1} ⋅\\xi_{K}⎠\n",
       "───────────────────────────────────\n",
       "                                   \n",
       "                                   "
      ]
     },
     "execution_count": 31,
     "metadata": {},
     "output_type": "execute_result"
    }
   ],
   "source": [
    "# define all our variables\n",
    "x = symbols('x')\n",
    "ki, kj = symbols('\\\\xi_i'), symbols('\\\\xi_j')\n",
    "kl, kp = symbols('\\\\xi_{K}'), symbols('\\\\xi_{K-1}')\n",
    "\n",
    "# define integral constructed from all our variables\n",
    "dKp = (x - kp)**3/(kl - kp)\n",
    "dKi = (x - ki)**3 / (kl - ki)\n",
    "dKj = (x - kj)**3 / (kl - kj)\n",
    "integral_part_1 = integrate(dKi.diff(x, 2)*dKj.diff(x, 2),\n",
    "                            (x, kj, kp))\n",
    "integral_part_2 = integrate((dKi - dKp).diff(x, 2)*(dKj - dKp).diff(x, 2),\n",
    "                            (x, kp, kl))\n",
    "total_integral = integral_part_1 + integral_part_2\n",
    "\n",
    "# print the integral\n",
    "simplify(total_integral)"
   ]
  },
  {
   "cell_type": "code",
   "execution_count": null,
   "metadata": {
    "id": "hASSSDN432Xt"
   },
   "outputs": [],
   "source": [
    "Omega = np.zeros((len(knots), len(knots)))\n",
    "\n",
    "def calc_integral(i, j, p, l):\n",
    "        return (-18*i*j*j + 12*i*j*l + 24*i*j*p - 12*i*l*p - 6*i*p*p +\n",
    "                6*j*j*j - 12*j*l*p - 6*j*p*p + 12*l*p*p) / (i*j - i*l - j*l + l*l)\n",
    "\n",
    "for i in range(2, len(knots)):\n",
    "    for j in range(2, len(knots)):\n",
    "        Omega[i,j] = Omega[j,i] = calc_integral(knots[i-2],knots[j-2],knots[-2],knots[-1])\n"
   ]
  },
  {
   "cell_type": "markdown",
   "metadata": {
    "id": "aVze27HW9PXl"
   },
   "source": [
    "degree of freedom is $tr(\\Omega_N)$. Now try to find $\\lambda$ by using newton method"
   ]
  },
  {
   "cell_type": "code",
   "execution_count": null,
   "metadata": {
    "colab": {
     "base_uri": "https://localhost:8080/",
     "height": 37
    },
    "executionInfo": {
     "elapsed": 351,
     "status": "ok",
     "timestamp": 1711179022688,
     "user": {
      "displayName": "오영민/학생/통계학",
      "userId": "01302137743979307638"
     },
     "user_tz": -540
    },
    "id": "TE31wHCd5evR",
    "outputId": "8aa09252-877c-4cb2-b3fb-e3f66c997fb9"
   },
   "outputs": [
    {
     "data": {
      "text/latex": [
       "$\\displaystyle 1.04854520517378$"
      ],
      "text/plain": [
       "1.0485452051737794"
      ]
     },
     "execution_count": 33,
     "metadata": {},
     "output_type": "execute_result"
    }
   ],
   "source": [
    "def calc_dof_smooth(N,Omega,lambda_):\n",
    "    if lambda_ < 0: # by definition, lambda is always non-negative\n",
    "        lambda_ = 0\n",
    "    S_l = N @ np.linalg.inv(N.T @ N + lambda_ * Omega) @ N.T\n",
    "    return np.trace(S_l)\n",
    "\n",
    "lambda_ = optimize.newton(lambda l: (calc_dof_smooth(N,Omega,l) - 12)**2, 1)\n",
    "lambda_"
   ]
  },
  {
   "cell_type": "markdown",
   "metadata": {
    "id": "Kt7zq3I0_z4j"
   },
   "source": [
    "Calculate $\\hat{\\theta} = (N^TN + \\lambda \\Omega_N)^{-1}N^T\\mathbf{y}, S_{\\lambda} = N(N^TN + \\lambda \\Omega_N)^{-1} N^T $"
   ]
  },
  {
   "cell_type": "code",
   "execution_count": null,
   "metadata": {
    "id": "gl6wUYTb-v_c"
   },
   "outputs": [],
   "source": [
    "theta_hat = np.linalg.inv(N.T@N + lambda_ * Omega) @ N.T @ y_male\n",
    "S_l = N @ np.linalg.inv(N.T @ N + lambda_ * Omega) @ N.T\n",
    "fitted_values = S_l @ y_male"
   ]
  },
  {
   "cell_type": "code",
   "execution_count": null,
   "metadata": {
    "colab": {
     "base_uri": "https://localhost:8080/",
     "height": 430
    },
    "executionInfo": {
     "elapsed": 828,
     "status": "ok",
     "timestamp": 1711179023511,
     "user": {
      "displayName": "오영민/학생/통계학",
      "userId": "01302137743979307638"
     },
     "user_tz": -540
    },
    "id": "cR37SuxqA3Zz",
    "outputId": "d8eb7d09-fa87-428e-8cdf-4def349361d5"
   },
   "outputs": [
    {
     "data": {
      "image/png": "[encoded data removed]",
      "text/plain": [
       "<Figure size 640x480 with 1 Axes>"
      ]
     },
     "metadata": {},
     "output_type": "display_data"
    }
   ],
   "source": [
    "x_plot_male = np.linspace(knots[0], knots[-1], 100)\n",
    "x_plot_male_exp = expand_natural_cubic_1D(np.atleast_2d(x_plot_male).T,knots)\n",
    "y_plot_male = x_plot_male_exp @ theta_hat\n",
    "\n",
    "\n",
    "plt.plot(x_plot_male, y_plot_male, linewidth=1, label='Male')\n",
    "plt.scatter(X_male, y_male, s=1)\n",
    "plt.legend()\n",
    "plt.show()"
   ]
  },
  {
   "cell_type": "markdown",
   "metadata": {
    "id": "POS1_dVKFduG"
   },
   "source": [
    "Compare to B-spline with degree of freedom 12"
   ]
  },
  {
   "cell_type": "code",
   "execution_count": null,
   "metadata": {
    "colab": {
     "base_uri": "https://localhost:8080/",
     "height": 368
    },
    "executionInfo": {
     "elapsed": 667,
     "status": "ok",
     "timestamp": 1711179024173,
     "user": {
      "displayName": "오영민/학생/통계학",
      "userId": "01302137743979307638"
     },
     "user_tz": -540
    },
    "id": "XudBmTbKBOHR",
    "outputId": "4cf6829d-8cfa-4c6f-9ebe-44614241f63f"
   },
   "outputs": [
    {
     "data": {
      "image/png": "[encoded data removed]",
      "text/plain": [
       "<Figure size 1000x400 with 1 Axes>"
      ]
     },
     "metadata": {},
     "output_type": "display_data"
    }
   ],
   "source": [
    "q = np.linspace(0,1,13)\n",
    "knots = np.unique(np.quantile(X_male, q))\n",
    "\n",
    "X_male_exp = expand_natural_cubic_1D(X_male, knots)\n",
    "B_spline_theta_hat = np.linalg.inv(X_male_exp.T @ X_male_exp) @ X_male_exp.T @ y_male\n",
    "\n",
    "x_plot_male_exp = expand_natural_cubic_1D(np.atleast_2d(x_plot_male).T,knots)\n",
    "y_plot_male_B = x_plot_male_exp @ B_spline_theta_hat\n",
    "\n",
    "plt.figure(figsize=(10,4))\n",
    "plt.plot(x_plot_male, y_plot_male, linewidth=1, label=\"smoothing spline\")\n",
    "plt.plot(x_plot_male, y_plot_male_B, linewidth=1, label=\"B-spline\")\n",
    "plt.scatter(X_male, y_male, s=1)\n",
    "plt.legend()\n",
    "plt.show()"
   ]
  },
  {
   "cell_type": "code",
   "execution_count": null,
   "metadata": {
    "id": "rS9kxu02JSPm"
   },
   "outputs": [],
   "source": []
  }
 ],
 "metadata": {
  "colab": {
   "authorship_tag": "ABX9TyOoshMcc1vTnm+UTrdOiSAY",
   "mount_file_id": "1qYZ5JxkVE2OliEpikP0iNtJfBKPSaYt8",
   "provenance": []
  },
  "kernelspec": {
   "display_name": "Python 3",
   "name": "python3"
  },
  "language_info": {
   "name": "python"
  }
 },
 "nbformat": 4,
 "nbformat_minor": 0
}
